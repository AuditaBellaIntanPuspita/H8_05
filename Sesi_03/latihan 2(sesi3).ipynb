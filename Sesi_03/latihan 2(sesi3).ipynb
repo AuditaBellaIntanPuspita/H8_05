{
 "cells": [
  {
   "cell_type": "code",
   "execution_count": 22,
   "metadata": {},
   "outputs": [
    {
     "name": "stdout",
     "output_type": "stream",
     "text": [
      "[25, -25, 50, 500, 125, 150]\n"
     ]
    }
   ],
   "source": [
    "#no1\n",
    "\n",
    "def perkalian5(input_angka):\n",
    "    hasil = []\n",
    "    for number in input_angka:\n",
    "        hasil.append(number * 5)\n",
    "    return hasil\n",
    "\n",
    "my_list = [5, -5, 10, 100, 25, 30]\n",
    "multiplied_list = perkalian5(my_list)\n",
    "print(multiplied_list)\n",
    "    "
   ]
  },
  {
   "cell_type": "code",
   "execution_count": null,
   "metadata": {},
   "outputs": [],
   "source": [
    "#no2"
   ]
  },
  {
   "cell_type": "code",
   "execution_count": 15,
   "metadata": {},
   "outputs": [],
   "source": [
    "#no4\n",
    "\n",
    "\n",
    "def reverse_words(sentence):\n",
    "    words = sentence.split()\n",
    "    reversed_words = [word[::-1] for word in words]\n",
    "    reversed_sentence = ' '.join(reversed_words)\n",
    "    return reversed_sentence"
   ]
  },
  {
   "cell_type": "code",
   "execution_count": 21,
   "metadata": {},
   "outputs": [
    {
     "name": "stdout",
     "output_type": "stream",
     "text": [
      "ayas alleb\n"
     ]
    }
   ],
   "source": [
    "sentence = str(input(\"masukkan kata\"))\n",
    "reversed_sentence = reverse_words(sentence)\n",
    "print(reversed_sentence)"
   ]
  },
  {
   "cell_type": "code",
   "execution_count": null,
   "metadata": {},
   "outputs": [],
   "source": [
    "#no5\n",
    "\n",
    "def count_upper_lower(string1):\n",
    "    upper_count = 0\n",
    "    lower_count = 0\n",
    "    for char in string1:\n",
    "        if char.isupper():\n",
    "            upper_count +=1\n",
    "        alif char.islower():\n",
    "            lower_count += 1\n",
    "\n",
    "    print (\"upper case count is %d lower case count is %d \" %(upper_count, lower_count))\n",
    "\n",
    "    temp = input (\"masukkan kata :\")\n",
    "    count_upper_lower(temp)"
   ]
  }
 ],
 "metadata": {
  "kernelspec": {
   "display_name": "base",
   "language": "python",
   "name": "python3"
  },
  "language_info": {
   "codemirror_mode": {
    "name": "ipython",
    "version": 3
   },
   "file_extension": ".py",
   "mimetype": "text/x-python",
   "name": "python",
   "nbconvert_exporter": "python",
   "pygments_lexer": "ipython3",
   "version": "3.11.4"
  },
  "orig_nbformat": 4
 },
 "nbformat": 4,
 "nbformat_minor": 2
}
