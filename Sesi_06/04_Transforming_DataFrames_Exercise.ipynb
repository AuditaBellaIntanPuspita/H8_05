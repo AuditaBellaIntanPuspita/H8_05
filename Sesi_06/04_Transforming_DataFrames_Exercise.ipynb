{
  "cells": [
    {
      "cell_type": "code",
      "execution_count": 2,
      "metadata": {},
      "outputs": [],
      "source": [
        "# Import pandas using the alias pd\n",
        "import pandas as pd\n",
        "homelessness = pd.read_csv('01. homelessness.csv')"
      ]
    },
    {
      "cell_type": "code",
      "execution_count": 3,
      "metadata": {},
      "outputs": [
        {
          "data": {
            "text/html": [
              "<div>\n",
              "<style scoped>\n",
              "    .dataframe tbody tr th:only-of-type {\n",
              "        vertical-align: middle;\n",
              "    }\n",
              "\n",
              "    .dataframe tbody tr th {\n",
              "        vertical-align: top;\n",
              "    }\n",
              "\n",
              "    .dataframe thead th {\n",
              "        text-align: right;\n",
              "    }\n",
              "</style>\n",
              "<table border=\"1\" class=\"dataframe\">\n",
              "  <thead>\n",
              "    <tr style=\"text-align: right;\">\n",
              "      <th></th>\n",
              "      <th>Unnamed: 0</th>\n",
              "      <th>region</th>\n",
              "      <th>state</th>\n",
              "      <th>individuals</th>\n",
              "      <th>family_members</th>\n",
              "      <th>state_pop</th>\n",
              "    </tr>\n",
              "  </thead>\n",
              "  <tbody>\n",
              "    <tr>\n",
              "      <th>0</th>\n",
              "      <td>0</td>\n",
              "      <td>East South Central</td>\n",
              "      <td>Alabama</td>\n",
              "      <td>2570.0</td>\n",
              "      <td>864.0</td>\n",
              "      <td>4887681</td>\n",
              "    </tr>\n",
              "    <tr>\n",
              "      <th>1</th>\n",
              "      <td>1</td>\n",
              "      <td>Pacific</td>\n",
              "      <td>Alaska</td>\n",
              "      <td>1434.0</td>\n",
              "      <td>582.0</td>\n",
              "      <td>735139</td>\n",
              "    </tr>\n",
              "    <tr>\n",
              "      <th>2</th>\n",
              "      <td>2</td>\n",
              "      <td>Mountain</td>\n",
              "      <td>Arizona</td>\n",
              "      <td>7259.0</td>\n",
              "      <td>2606.0</td>\n",
              "      <td>7158024</td>\n",
              "    </tr>\n",
              "    <tr>\n",
              "      <th>3</th>\n",
              "      <td>3</td>\n",
              "      <td>West South Central</td>\n",
              "      <td>Arkansas</td>\n",
              "      <td>2280.0</td>\n",
              "      <td>432.0</td>\n",
              "      <td>3009733</td>\n",
              "    </tr>\n",
              "    <tr>\n",
              "      <th>4</th>\n",
              "      <td>4</td>\n",
              "      <td>Pacific</td>\n",
              "      <td>California</td>\n",
              "      <td>109008.0</td>\n",
              "      <td>20964.0</td>\n",
              "      <td>39461588</td>\n",
              "    </tr>\n",
              "  </tbody>\n",
              "</table>\n",
              "</div>"
            ],
            "text/plain": [
              "   Unnamed: 0              region       state  individuals  family_members  \\\n",
              "0           0  East South Central     Alabama       2570.0           864.0   \n",
              "1           1             Pacific      Alaska       1434.0           582.0   \n",
              "2           2            Mountain     Arizona       7259.0          2606.0   \n",
              "3           3  West South Central    Arkansas       2280.0           432.0   \n",
              "4           4             Pacific  California     109008.0         20964.0   \n",
              "\n",
              "   state_pop  \n",
              "0    4887681  \n",
              "1     735139  \n",
              "2    7158024  \n",
              "3    3009733  \n",
              "4   39461588  "
            ]
          },
          "execution_count": 3,
          "metadata": {},
          "output_type": "execute_result"
        }
      ],
      "source": [
        "# Print the head of the homelessness data\n",
        "homelessness.head()"
      ]
    },
    {
      "cell_type": "code",
      "execution_count": 4,
      "metadata": {},
      "outputs": [
        {
          "name": "stdout",
          "output_type": "stream",
          "text": [
            "<class 'pandas.core.frame.DataFrame'>\n",
            "RangeIndex: 51 entries, 0 to 50\n",
            "Data columns (total 6 columns):\n",
            " #   Column          Non-Null Count  Dtype  \n",
            "---  ------          --------------  -----  \n",
            " 0   Unnamed: 0      51 non-null     int64  \n",
            " 1   region          51 non-null     object \n",
            " 2   state           51 non-null     object \n",
            " 3   individuals     51 non-null     float64\n",
            " 4   family_members  51 non-null     float64\n",
            " 5   state_pop       51 non-null     int64  \n",
            "dtypes: float64(2), int64(2), object(2)\n",
            "memory usage: 2.5+ KB\n"
          ]
        }
      ],
      "source": [
        "# Print information about homelessness\n",
        "homelessness.info()"
      ]
    },
    {
      "cell_type": "code",
      "execution_count": 5,
      "metadata": {},
      "outputs": [
        {
          "data": {
            "text/plain": [
              "(51, 6)"
            ]
          },
          "execution_count": 5,
          "metadata": {},
          "output_type": "execute_result"
        }
      ],
      "source": [
        "# Print the shape of homelessness\n",
        "homelessness.shape"
      ]
    },
    {
      "cell_type": "code",
      "execution_count": 6,
      "metadata": {
        "id": "aFeAVj_hwI28"
      },
      "outputs": [
        {
          "data": {
            "text/plain": [
              "<bound method NDFrame.describe of     Unnamed: 0              region                 state  individuals  \\\n",
              "0            0  East South Central               Alabama       2570.0   \n",
              "1            1             Pacific                Alaska       1434.0   \n",
              "2            2            Mountain               Arizona       7259.0   \n",
              "3            3  West South Central              Arkansas       2280.0   \n",
              "4            4             Pacific            California     109008.0   \n",
              "5            5            Mountain              Colorado       7607.0   \n",
              "6            6         New England           Connecticut       2280.0   \n",
              "7            7      South Atlantic              Delaware        708.0   \n",
              "8            8      South Atlantic  District of Columbia       3770.0   \n",
              "9            9      South Atlantic               Florida      21443.0   \n",
              "10          10      South Atlantic               Georgia       6943.0   \n",
              "11          11             Pacific                Hawaii       4131.0   \n",
              "12          12            Mountain                 Idaho       1297.0   \n",
              "13          13  East North Central              Illinois       6752.0   \n",
              "14          14  East North Central               Indiana       3776.0   \n",
              "15          15  West North Central                  Iowa       1711.0   \n",
              "16          16  West North Central                Kansas       1443.0   \n",
              "17          17  East South Central              Kentucky       2735.0   \n",
              "18          18  West South Central             Louisiana       2540.0   \n",
              "19          19         New England                 Maine       1450.0   \n",
              "20          20      South Atlantic              Maryland       4914.0   \n",
              "21          21         New England         Massachusetts       6811.0   \n",
              "22          22  East North Central              Michigan       5209.0   \n",
              "23          23  West North Central             Minnesota       3993.0   \n",
              "24          24  East South Central           Mississippi       1024.0   \n",
              "25          25  West North Central              Missouri       3776.0   \n",
              "26          26            Mountain               Montana        983.0   \n",
              "27          27  West North Central              Nebraska       1745.0   \n",
              "28          28            Mountain                Nevada       7058.0   \n",
              "29          29         New England         New Hampshire        835.0   \n",
              "30          30        Mid-Atlantic            New Jersey       6048.0   \n",
              "31          31            Mountain            New Mexico       1949.0   \n",
              "32          32        Mid-Atlantic              New York      39827.0   \n",
              "33          33      South Atlantic        North Carolina       6451.0   \n",
              "34          34  West North Central          North Dakota        467.0   \n",
              "35          35  East North Central                  Ohio       6929.0   \n",
              "36          36  West South Central              Oklahoma       2823.0   \n",
              "37          37             Pacific                Oregon      11139.0   \n",
              "38          38        Mid-Atlantic          Pennsylvania       8163.0   \n",
              "39          39         New England          Rhode Island        747.0   \n",
              "40          40      South Atlantic        South Carolina       3082.0   \n",
              "41          41  West North Central          South Dakota        836.0   \n",
              "42          42  East South Central             Tennessee       6139.0   \n",
              "43          43  West South Central                 Texas      19199.0   \n",
              "44          44            Mountain                  Utah       1904.0   \n",
              "45          45         New England               Vermont        780.0   \n",
              "46          46      South Atlantic              Virginia       3928.0   \n",
              "47          47             Pacific            Washington      16424.0   \n",
              "48          48      South Atlantic         West Virginia       1021.0   \n",
              "49          49  East North Central             Wisconsin       2740.0   \n",
              "50          50            Mountain               Wyoming        434.0   \n",
              "\n",
              "    family_members  state_pop  \n",
              "0            864.0    4887681  \n",
              "1            582.0     735139  \n",
              "2           2606.0    7158024  \n",
              "3            432.0    3009733  \n",
              "4          20964.0   39461588  \n",
              "5           3250.0    5691287  \n",
              "6           1696.0    3571520  \n",
              "7            374.0     965479  \n",
              "8           3134.0     701547  \n",
              "9           9587.0   21244317  \n",
              "10          2556.0   10511131  \n",
              "11          2399.0    1420593  \n",
              "12           715.0    1750536  \n",
              "13          3891.0   12723071  \n",
              "14          1482.0    6695497  \n",
              "15          1038.0    3148618  \n",
              "16           773.0    2911359  \n",
              "17           953.0    4461153  \n",
              "18           519.0    4659690  \n",
              "19          1066.0    1339057  \n",
              "20          2230.0    6035802  \n",
              "21         13257.0    6882635  \n",
              "22          3142.0    9984072  \n",
              "23          3250.0    5606249  \n",
              "24           328.0    2981020  \n",
              "25          2107.0    6121623  \n",
              "26           422.0    1060665  \n",
              "27           676.0    1925614  \n",
              "28           486.0    3027341  \n",
              "29           615.0    1353465  \n",
              "30          3350.0    8886025  \n",
              "31           602.0    2092741  \n",
              "32         52070.0   19530351  \n",
              "33          2817.0   10381615  \n",
              "34            75.0     758080  \n",
              "35          3320.0   11676341  \n",
              "36          1048.0    3940235  \n",
              "37          3337.0    4181886  \n",
              "38          5349.0   12800922  \n",
              "39           354.0    1058287  \n",
              "40           851.0    5084156  \n",
              "41           323.0     878698  \n",
              "42          1744.0    6771631  \n",
              "43          6111.0   28628666  \n",
              "44           972.0    3153550  \n",
              "45           511.0     624358  \n",
              "46          2047.0    8501286  \n",
              "47          5880.0    7523869  \n",
              "48           222.0    1804291  \n",
              "49          2167.0    5807406  \n",
              "50           205.0     577601  >"
            ]
          },
          "execution_count": 6,
          "metadata": {},
          "output_type": "execute_result"
        }
      ],
      "source": [
        "# Print a description of homelessness\n",
        "homelessness.describe"
      ]
    },
    {
      "cell_type": "code",
      "execution_count": 7,
      "metadata": {},
      "outputs": [
        {
          "data": {
            "text/plain": [
              "array([[0, 'East South Central', 'Alabama', 2570.0, 864.0, 4887681],\n",
              "       [1, 'Pacific', 'Alaska', 1434.0, 582.0, 735139],\n",
              "       [2, 'Mountain', 'Arizona', 7259.0, 2606.0, 7158024],\n",
              "       [3, 'West South Central', 'Arkansas', 2280.0, 432.0, 3009733],\n",
              "       [4, 'Pacific', 'California', 109008.0, 20964.0, 39461588],\n",
              "       [5, 'Mountain', 'Colorado', 7607.0, 3250.0, 5691287],\n",
              "       [6, 'New England', 'Connecticut', 2280.0, 1696.0, 3571520],\n",
              "       [7, 'South Atlantic', 'Delaware', 708.0, 374.0, 965479],\n",
              "       [8, 'South Atlantic', 'District of Columbia', 3770.0, 3134.0,\n",
              "        701547],\n",
              "       [9, 'South Atlantic', 'Florida', 21443.0, 9587.0, 21244317],\n",
              "       [10, 'South Atlantic', 'Georgia', 6943.0, 2556.0, 10511131],\n",
              "       [11, 'Pacific', 'Hawaii', 4131.0, 2399.0, 1420593],\n",
              "       [12, 'Mountain', 'Idaho', 1297.0, 715.0, 1750536],\n",
              "       [13, 'East North Central', 'Illinois', 6752.0, 3891.0, 12723071],\n",
              "       [14, 'East North Central', 'Indiana', 3776.0, 1482.0, 6695497],\n",
              "       [15, 'West North Central', 'Iowa', 1711.0, 1038.0, 3148618],\n",
              "       [16, 'West North Central', 'Kansas', 1443.0, 773.0, 2911359],\n",
              "       [17, 'East South Central', 'Kentucky', 2735.0, 953.0, 4461153],\n",
              "       [18, 'West South Central', 'Louisiana', 2540.0, 519.0, 4659690],\n",
              "       [19, 'New England', 'Maine', 1450.0, 1066.0, 1339057],\n",
              "       [20, 'South Atlantic', 'Maryland', 4914.0, 2230.0, 6035802],\n",
              "       [21, 'New England', 'Massachusetts', 6811.0, 13257.0, 6882635],\n",
              "       [22, 'East North Central', 'Michigan', 5209.0, 3142.0, 9984072],\n",
              "       [23, 'West North Central', 'Minnesota', 3993.0, 3250.0, 5606249],\n",
              "       [24, 'East South Central', 'Mississippi', 1024.0, 328.0, 2981020],\n",
              "       [25, 'West North Central', 'Missouri', 3776.0, 2107.0, 6121623],\n",
              "       [26, 'Mountain', 'Montana', 983.0, 422.0, 1060665],\n",
              "       [27, 'West North Central', 'Nebraska', 1745.0, 676.0, 1925614],\n",
              "       [28, 'Mountain', 'Nevada', 7058.0, 486.0, 3027341],\n",
              "       [29, 'New England', 'New Hampshire', 835.0, 615.0, 1353465],\n",
              "       [30, 'Mid-Atlantic', 'New Jersey', 6048.0, 3350.0, 8886025],\n",
              "       [31, 'Mountain', 'New Mexico', 1949.0, 602.0, 2092741],\n",
              "       [32, 'Mid-Atlantic', 'New York', 39827.0, 52070.0, 19530351],\n",
              "       [33, 'South Atlantic', 'North Carolina', 6451.0, 2817.0, 10381615],\n",
              "       [34, 'West North Central', 'North Dakota', 467.0, 75.0, 758080],\n",
              "       [35, 'East North Central', 'Ohio', 6929.0, 3320.0, 11676341],\n",
              "       [36, 'West South Central', 'Oklahoma', 2823.0, 1048.0, 3940235],\n",
              "       [37, 'Pacific', 'Oregon', 11139.0, 3337.0, 4181886],\n",
              "       [38, 'Mid-Atlantic', 'Pennsylvania', 8163.0, 5349.0, 12800922],\n",
              "       [39, 'New England', 'Rhode Island', 747.0, 354.0, 1058287],\n",
              "       [40, 'South Atlantic', 'South Carolina', 3082.0, 851.0, 5084156],\n",
              "       [41, 'West North Central', 'South Dakota', 836.0, 323.0, 878698],\n",
              "       [42, 'East South Central', 'Tennessee', 6139.0, 1744.0, 6771631],\n",
              "       [43, 'West South Central', 'Texas', 19199.0, 6111.0, 28628666],\n",
              "       [44, 'Mountain', 'Utah', 1904.0, 972.0, 3153550],\n",
              "       [45, 'New England', 'Vermont', 780.0, 511.0, 624358],\n",
              "       [46, 'South Atlantic', 'Virginia', 3928.0, 2047.0, 8501286],\n",
              "       [47, 'Pacific', 'Washington', 16424.0, 5880.0, 7523869],\n",
              "       [48, 'South Atlantic', 'West Virginia', 1021.0, 222.0, 1804291],\n",
              "       [49, 'East North Central', 'Wisconsin', 2740.0, 2167.0, 5807406],\n",
              "       [50, 'Mountain', 'Wyoming', 434.0, 205.0, 577601]], dtype=object)"
            ]
          },
          "execution_count": 7,
          "metadata": {},
          "output_type": "execute_result"
        }
      ],
      "source": [
        "# Print the values of homelessness\n",
        "homelessness.values"
      ]
    },
    {
      "cell_type": "code",
      "execution_count": 9,
      "metadata": {},
      "outputs": [
        {
          "data": {
            "text/plain": [
              "Index(['Unnamed: 0', 'region', 'state', 'individuals', 'family_members',\n",
              "       'state_pop'],\n",
              "      dtype='object')"
            ]
          },
          "execution_count": 9,
          "metadata": {},
          "output_type": "execute_result"
        }
      ],
      "source": [
        "# Print the column index of homelessness\n",
        "homelessness.columns"
      ]
    },
    {
      "cell_type": "code",
      "execution_count": 10,
      "metadata": {
        "id": "fm5saUItwcFd"
      },
      "outputs": [
        {
          "data": {
            "text/plain": [
              "RangeIndex(start=0, stop=51, step=1)"
            ]
          },
          "execution_count": 10,
          "metadata": {},
          "output_type": "execute_result"
        }
      ],
      "source": [
        "\n",
        "# Print the row index of homelessness\n",
        "homelessness.index"
      ]
    },
    {
      "cell_type": "markdown",
      "metadata": {
        "id": "C2RxFTVbwurT"
      },
      "source": [
        "1. Sort homelessness by the number of homeless individuals, from smallest to largest, and save this as homelessness_ind.\n",
        "2. Print the head of the sorted DataFrame."
      ]
    },
    {
      "cell_type": "code",
      "execution_count": 32,
      "metadata": {},
      "outputs": [],
      "source": [
        "# Sort homelessness by individual\n",
        "homelessness_ind = homelessness.sort_values(['individuals'], ascending=True, axis=0)"
      ]
    },
    {
      "cell_type": "code",
      "execution_count": 33,
      "metadata": {
        "id": "a3ykbCdgwzQV"
      },
      "outputs": [
        {
          "name": "stdout",
          "output_type": "stream",
          "text": [
            "    Unnamed: 0    region    state  individuals  family_members  state_pop  \\\n",
            "50          50  Mountain  Wyoming        434.0           205.0     577601   \n",
            "\n",
            "    indiv_per_10k  \n",
            "50       7.513837  \n"
          ]
        }
      ],
      "source": [
        "# Print the top few rows\n",
        "print(homelessness_ind.head(1))"
      ]
    },
    {
      "cell_type": "markdown",
      "metadata": {
        "id": "DzVp9qvLwyQA"
      },
      "source": [
        "1. Sort homelessness by the number of homeless family_members in descending order, and save this as homelessness_fam.\n",
        "2. Print the head of the sorted DataFrame."
      ]
    },
    {
      "cell_type": "code",
      "execution_count": 35,
      "metadata": {},
      "outputs": [],
      "source": [
        "# Sort homelessness by descending family members\n",
        "homelessness_fam = homelessness.sort_values(['family_members'], ascending=False, axis=0)"
      ]
    },
    {
      "cell_type": "code",
      "execution_count": 36,
      "metadata": {
        "id": "b6XF3IT0w7us"
      },
      "outputs": [
        {
          "data": {
            "text/html": [
              "<div>\n",
              "<style scoped>\n",
              "    .dataframe tbody tr th:only-of-type {\n",
              "        vertical-align: middle;\n",
              "    }\n",
              "\n",
              "    .dataframe tbody tr th {\n",
              "        vertical-align: top;\n",
              "    }\n",
              "\n",
              "    .dataframe thead th {\n",
              "        text-align: right;\n",
              "    }\n",
              "</style>\n",
              "<table border=\"1\" class=\"dataframe\">\n",
              "  <thead>\n",
              "    <tr style=\"text-align: right;\">\n",
              "      <th></th>\n",
              "      <th>Unnamed: 0</th>\n",
              "      <th>region</th>\n",
              "      <th>state</th>\n",
              "      <th>individuals</th>\n",
              "      <th>family_members</th>\n",
              "      <th>state_pop</th>\n",
              "      <th>indiv_per_10k</th>\n",
              "    </tr>\n",
              "  </thead>\n",
              "  <tbody>\n",
              "    <tr>\n",
              "      <th>32</th>\n",
              "      <td>32</td>\n",
              "      <td>Mid-Atlantic</td>\n",
              "      <td>New York</td>\n",
              "      <td>39827.0</td>\n",
              "      <td>52070.0</td>\n",
              "      <td>19530351</td>\n",
              "      <td>20.392363</td>\n",
              "    </tr>\n",
              "  </tbody>\n",
              "</table>\n",
              "</div>"
            ],
            "text/plain": [
              "    Unnamed: 0        region     state  individuals  family_members  \\\n",
              "32          32  Mid-Atlantic  New York      39827.0         52070.0   \n",
              "\n",
              "    state_pop  indiv_per_10k  \n",
              "32   19530351      20.392363  "
            ]
          },
          "execution_count": 36,
          "metadata": {},
          "output_type": "execute_result"
        }
      ],
      "source": [
        "# Print the top few rows\n",
        "homelessness_fam.head(1)"
      ]
    },
    {
      "cell_type": "markdown",
      "metadata": {
        "id": "VrycbWLXxju4"
      },
      "source": [
        "1. Sort homelessness first by region (ascending), and then by number of family members (descending). Save this as homelessness_reg_fam.\n",
        "2. Print the head of the sorted DataFrame."
      ]
    },
    {
      "cell_type": "code",
      "execution_count": 38,
      "metadata": {},
      "outputs": [],
      "source": [
        "# Sort homelessness by region, then descending family members\n",
        "homelessness_reg_fam = homelessness.sort_values([\"region\",\"family_members\"], ascending=[True, False], axis=0)"
      ]
    },
    {
      "cell_type": "code",
      "execution_count": 39,
      "metadata": {
        "id": "8GxinflQxmL6"
      },
      "outputs": [
        {
          "data": {
            "text/html": [
              "<div>\n",
              "<style scoped>\n",
              "    .dataframe tbody tr th:only-of-type {\n",
              "        vertical-align: middle;\n",
              "    }\n",
              "\n",
              "    .dataframe tbody tr th {\n",
              "        vertical-align: top;\n",
              "    }\n",
              "\n",
              "    .dataframe thead th {\n",
              "        text-align: right;\n",
              "    }\n",
              "</style>\n",
              "<table border=\"1\" class=\"dataframe\">\n",
              "  <thead>\n",
              "    <tr style=\"text-align: right;\">\n",
              "      <th></th>\n",
              "      <th>Unnamed: 0</th>\n",
              "      <th>region</th>\n",
              "      <th>state</th>\n",
              "      <th>individuals</th>\n",
              "      <th>family_members</th>\n",
              "      <th>state_pop</th>\n",
              "      <th>indiv_per_10k</th>\n",
              "    </tr>\n",
              "  </thead>\n",
              "  <tbody>\n",
              "    <tr>\n",
              "      <th>13</th>\n",
              "      <td>13</td>\n",
              "      <td>East North Central</td>\n",
              "      <td>Illinois</td>\n",
              "      <td>6752.0</td>\n",
              "      <td>3891.0</td>\n",
              "      <td>12723071</td>\n",
              "      <td>5.306895</td>\n",
              "    </tr>\n",
              "  </tbody>\n",
              "</table>\n",
              "</div>"
            ],
            "text/plain": [
              "    Unnamed: 0              region     state  individuals  family_members  \\\n",
              "13          13  East North Central  Illinois       6752.0          3891.0   \n",
              "\n",
              "    state_pop  indiv_per_10k  \n",
              "13   12723071       5.306895  "
            ]
          },
          "execution_count": 39,
          "metadata": {},
          "output_type": "execute_result"
        }
      ],
      "source": [
        "# Print the top few rows\n",
        "homelessness_reg_fam.head(1)"
      ]
    },
    {
      "cell_type": "markdown",
      "metadata": {
        "id": "ysh02Y60xs7n"
      },
      "source": [
        "1. Create a DataFrame called individuals that contains only the individuals column of homelessness.\n",
        "2. Print the head of the result."
      ]
    },
    {
      "cell_type": "code",
      "execution_count": 23,
      "metadata": {
        "id": "N9kvbr1fxwQV"
      },
      "outputs": [
        {
          "data": {
            "text/plain": [
              "<bound method NDFrame.head of     individuals\n",
              "0        2570.0\n",
              "1        1434.0\n",
              "2        7259.0\n",
              "3        2280.0\n",
              "4      109008.0\n",
              "5        7607.0\n",
              "6        2280.0\n",
              "7         708.0\n",
              "8        3770.0\n",
              "9       21443.0\n",
              "10       6943.0\n",
              "11       4131.0\n",
              "12       1297.0\n",
              "13       6752.0\n",
              "14       3776.0\n",
              "15       1711.0\n",
              "16       1443.0\n",
              "17       2735.0\n",
              "18       2540.0\n",
              "19       1450.0\n",
              "20       4914.0\n",
              "21       6811.0\n",
              "22       5209.0\n",
              "23       3993.0\n",
              "24       1024.0\n",
              "25       3776.0\n",
              "26        983.0\n",
              "27       1745.0\n",
              "28       7058.0\n",
              "29        835.0\n",
              "30       6048.0\n",
              "31       1949.0\n",
              "32      39827.0\n",
              "33       6451.0\n",
              "34        467.0\n",
              "35       6929.0\n",
              "36       2823.0\n",
              "37      11139.0\n",
              "38       8163.0\n",
              "39        747.0\n",
              "40       3082.0\n",
              "41        836.0\n",
              "42       6139.0\n",
              "43      19199.0\n",
              "44       1904.0\n",
              "45        780.0\n",
              "46       3928.0\n",
              "47      16424.0\n",
              "48       1021.0\n",
              "49       2740.0\n",
              "50        434.0>"
            ]
          },
          "execution_count": 23,
          "metadata": {},
          "output_type": "execute_result"
        }
      ],
      "source": [
        "# Select the individuals column\n",
        "individuals = homelessness['individuals']\n",
        "\n",
        "# Print the head of the result\n",
        "individuals.head"
      ]
    },
    {
      "cell_type": "markdown",
      "metadata": {
        "id": "kjcynwqKyprN"
      },
      "source": [
        "1. Create a DataFrame called state_fam that contains only the state and family_members columns of homelessness, in that order.\n",
        "2. Print the head of the result."
      ]
    },
    {
      "cell_type": "code",
      "execution_count": 24,
      "metadata": {
        "id": "cmOO0FXNyuLY"
      },
      "outputs": [
        {
          "data": {
            "text/plain": [
              "<bound method NDFrame.head of                    state  family_members\n",
              "0                Alabama           864.0\n",
              "1                 Alaska           582.0\n",
              "2                Arizona          2606.0\n",
              "3               Arkansas           432.0\n",
              "4             California         20964.0\n",
              "5               Colorado          3250.0\n",
              "6            Connecticut          1696.0\n",
              "7               Delaware           374.0\n",
              "8   District of Columbia          3134.0\n",
              "9                Florida          9587.0\n",
              "10               Georgia          2556.0\n",
              "11                Hawaii          2399.0\n",
              "12                 Idaho           715.0\n",
              "13              Illinois          3891.0\n",
              "14               Indiana          1482.0\n",
              "15                  Iowa          1038.0\n",
              "16                Kansas           773.0\n",
              "17              Kentucky           953.0\n",
              "18             Louisiana           519.0\n",
              "19                 Maine          1066.0\n",
              "20              Maryland          2230.0\n",
              "21         Massachusetts         13257.0\n",
              "22              Michigan          3142.0\n",
              "23             Minnesota          3250.0\n",
              "24           Mississippi           328.0\n",
              "25              Missouri          2107.0\n",
              "26               Montana           422.0\n",
              "27              Nebraska           676.0\n",
              "28                Nevada           486.0\n",
              "29         New Hampshire           615.0\n",
              "30            New Jersey          3350.0\n",
              "31            New Mexico           602.0\n",
              "32              New York         52070.0\n",
              "33        North Carolina          2817.0\n",
              "34          North Dakota            75.0\n",
              "35                  Ohio          3320.0\n",
              "36              Oklahoma          1048.0\n",
              "37                Oregon          3337.0\n",
              "38          Pennsylvania          5349.0\n",
              "39          Rhode Island           354.0\n",
              "40        South Carolina           851.0\n",
              "41          South Dakota           323.0\n",
              "42             Tennessee          1744.0\n",
              "43                 Texas          6111.0\n",
              "44                  Utah           972.0\n",
              "45               Vermont           511.0\n",
              "46              Virginia          2047.0\n",
              "47            Washington          5880.0\n",
              "48         West Virginia           222.0\n",
              "49             Wisconsin          2167.0\n",
              "50               Wyoming           205.0>"
            ]
          },
          "execution_count": 24,
          "metadata": {},
          "output_type": "execute_result"
        }
      ],
      "source": [
        "# Select the state and family_members columns\n",
        "state_fam = homelessness[['state', 'family_members']]\n",
        "\n",
        "# Print the head of the result\n",
        "state_fam.head()"
      ]
    },
    {
      "cell_type": "markdown",
      "metadata": {
        "id": "HDL0tEKpywNU"
      },
      "source": [
        "1. Create a DataFrame called ind_state that contains the individuals and state columns of homelessness, in that order.\n",
        "2. Print the head of the result."
      ]
    },
    {
      "cell_type": "code",
      "execution_count": 25,
      "metadata": {
        "id": "9CGyZMlPy17L"
      },
      "outputs": [
        {
          "data": {
            "text/plain": [
              "<bound method NDFrame.head of     individuals                 state\n",
              "0        2570.0               Alabama\n",
              "1        1434.0                Alaska\n",
              "2        7259.0               Arizona\n",
              "3        2280.0              Arkansas\n",
              "4      109008.0            California\n",
              "5        7607.0              Colorado\n",
              "6        2280.0           Connecticut\n",
              "7         708.0              Delaware\n",
              "8        3770.0  District of Columbia\n",
              "9       21443.0               Florida\n",
              "10       6943.0               Georgia\n",
              "11       4131.0                Hawaii\n",
              "12       1297.0                 Idaho\n",
              "13       6752.0              Illinois\n",
              "14       3776.0               Indiana\n",
              "15       1711.0                  Iowa\n",
              "16       1443.0                Kansas\n",
              "17       2735.0              Kentucky\n",
              "18       2540.0             Louisiana\n",
              "19       1450.0                 Maine\n",
              "20       4914.0              Maryland\n",
              "21       6811.0         Massachusetts\n",
              "22       5209.0              Michigan\n",
              "23       3993.0             Minnesota\n",
              "24       1024.0           Mississippi\n",
              "25       3776.0              Missouri\n",
              "26        983.0               Montana\n",
              "27       1745.0              Nebraska\n",
              "28       7058.0                Nevada\n",
              "29        835.0         New Hampshire\n",
              "30       6048.0            New Jersey\n",
              "31       1949.0            New Mexico\n",
              "32      39827.0              New York\n",
              "33       6451.0        North Carolina\n",
              "34        467.0          North Dakota\n",
              "35       6929.0                  Ohio\n",
              "36       2823.0              Oklahoma\n",
              "37      11139.0                Oregon\n",
              "38       8163.0          Pennsylvania\n",
              "39        747.0          Rhode Island\n",
              "40       3082.0        South Carolina\n",
              "41        836.0          South Dakota\n",
              "42       6139.0             Tennessee\n",
              "43      19199.0                 Texas\n",
              "44       1904.0                  Utah\n",
              "45        780.0               Vermont\n",
              "46       3928.0              Virginia\n",
              "47      16424.0            Washington\n",
              "48       1021.0         West Virginia\n",
              "49       2740.0             Wisconsin\n",
              "50        434.0               Wyoming>"
            ]
          },
          "execution_count": 25,
          "metadata": {},
          "output_type": "execute_result"
        }
      ],
      "source": [
        "# Select only the individuals and state columns, in that order\n",
        "ind_state = homelessness[['individuals', 'state']]\n",
        "\n",
        "# Print the head of the result\n",
        "ind_state.head()"
      ]
    },
    {
      "cell_type": "markdown",
      "metadata": {
        "id": "jRHrSM92zYH5"
      },
      "source": [
        "Filter homelessness for cases where the number of individuals is greater than ten thousand, assigning to ind_gt_10k. View the printed result."
      ]
    },
    {
      "cell_type": "code",
      "execution_count": 30,
      "metadata": {
        "id": "Gb2mfRaYzbvk"
      },
      "outputs": [
        {
          "name": "stdout",
          "output_type": "stream",
          "text": [
            "    Unnamed: 0              region       state  individuals  family_members  \\\n",
            "4            4             Pacific  California     109008.0         20964.0   \n",
            "9            9      South Atlantic     Florida      21443.0          9587.0   \n",
            "32          32        Mid-Atlantic    New York      39827.0         52070.0   \n",
            "37          37             Pacific      Oregon      11139.0          3337.0   \n",
            "43          43  West South Central       Texas      19199.0          6111.0   \n",
            "47          47             Pacific  Washington      16424.0          5880.0   \n",
            "\n",
            "    state_pop  \n",
            "4    39461588  \n",
            "9    21244317  \n",
            "32   19530351  \n",
            "37    4181886  \n",
            "43   28628666  \n",
            "47    7523869  \n"
          ]
        }
      ],
      "source": [
        "# Filter for rows where individuals is greater than 10000\n",
        "ind_gt_10k = homelessness[homelessness['individuals'] > 10000]\n",
        "\n",
        "# See the result\n",
        "print(ind_gt_10k)"
      ]
    },
    {
      "cell_type": "markdown",
      "metadata": {
        "id": "ON9JYsLnzcPF"
      },
      "source": [
        "Filter homelessness for cases where the USA Census region is \"Mountain\", assigning to mountain_reg. View the printed result."
      ]
    },
    {
      "cell_type": "code",
      "execution_count": 27,
      "metadata": {
        "id": "MrVVVJwMzhaI"
      },
      "outputs": [
        {
          "data": {
            "text/plain": [
              "<bound method NDFrame.head of     Unnamed: 0    region       state  individuals  family_members  state_pop\n",
              "2            2  Mountain     Arizona       7259.0          2606.0    7158024\n",
              "5            5  Mountain    Colorado       7607.0          3250.0    5691287\n",
              "12          12  Mountain       Idaho       1297.0           715.0    1750536\n",
              "26          26  Mountain     Montana        983.0           422.0    1060665\n",
              "28          28  Mountain      Nevada       7058.0           486.0    3027341\n",
              "31          31  Mountain  New Mexico       1949.0           602.0    2092741\n",
              "44          44  Mountain        Utah       1904.0           972.0    3153550\n",
              "50          50  Mountain     Wyoming        434.0           205.0     577601>"
            ]
          },
          "execution_count": 27,
          "metadata": {},
          "output_type": "execute_result"
        }
      ],
      "source": [
        "# Filter for rows where region is Mountain\n",
        "mountain_reg = homelessness[homelessness['region'] == 'Mountain']\n",
        "\n",
        "# See the result\n",
        "mountain_reg.head"
      ]
    },
    {
      "cell_type": "markdown",
      "metadata": {
        "id": "DDQQp1oWziHx"
      },
      "source": [
        "Filter homelessness for cases where the number of family_members is less than one thousand and the region is \"Pacific\", assigning to fam_lt_1k_pac. View the printed result."
      ]
    },
    {
      "cell_type": "code",
      "execution_count": 28,
      "metadata": {
        "id": "8YRcU-HszlCU"
      },
      "outputs": [
        {
          "name": "stdout",
          "output_type": "stream",
          "text": [
            "   Unnamed: 0   region   state  individuals  family_members  state_pop\n",
            "1           1  Pacific  Alaska       1434.0           582.0     735139\n"
          ]
        }
      ],
      "source": [
        "# Filter for rows where family_members is less than 1000 \n",
        "# and region is Pacific\n",
        "fam_lt_1k_pac = homelessness[(homelessness['family_members'] < 1000) & (homelessness['region'] == 'Pacific')]\n",
        "\n",
        "# See the result\n",
        "print(fam_lt_1k_pac)"
      ]
    },
    {
      "cell_type": "markdown",
      "metadata": {
        "id": "yGDc3wEIzpE8"
      },
      "source": [
        "Filter homelessness for cases where the USA census region is \"South Atlantic\" or it is \"Mid-Atlantic\", assigning to south_mid_atlantic. View the printed result"
      ]
    },
    {
      "cell_type": "code",
      "execution_count": 41,
      "metadata": {
        "id": "nk8O0I2PzrLV"
      },
      "outputs": [
        {
          "name": "stdout",
          "output_type": "stream",
          "text": [
            "    Unnamed: 0        region         state  individuals  family_members  \\\n",
            "30          30  Mid-Atlantic    New Jersey       6048.0          3350.0   \n",
            "32          32  Mid-Atlantic      New York      39827.0         52070.0   \n",
            "38          38  Mid-Atlantic  Pennsylvania       8163.0          5349.0   \n",
            "\n",
            "    state_pop  indiv_per_10k  \n",
            "30    8886025       6.806193  \n",
            "32   19530351      20.392363  \n",
            "38   12800922       6.376884  \n"
          ]
        }
      ],
      "source": [
        "# Subset for rows in South Atlantic or Mid-Atlantic regions\n",
        "south_mid_atlantic = homelessness[(homelessness['region']== 'Mid-Atlantic') | (homelessness['region']=='South-Atlantic')]\n",
        "\n",
        "# See the result\n",
        "print(south_mid_atlantic)"
      ]
    },
    {
      "cell_type": "markdown",
      "metadata": {
        "id": "jjBCm7kAzs5u"
      },
      "source": [
        "Filter homelessness for cases where the USA census state is in the list of Mojave states, canu, assigning to mojave_homelessness. View the printed result."
      ]
    },
    {
      "cell_type": "code",
      "execution_count": 42,
      "metadata": {
        "id": "F45HAHppzvKf"
      },
      "outputs": [
        {
          "name": "stdout",
          "output_type": "stream",
          "text": [
            "    Unnamed: 0    region       state  individuals  family_members  state_pop  \\\n",
            "2            2  Mountain     Arizona       7259.0          2606.0    7158024   \n",
            "4            4   Pacific  California     109008.0         20964.0   39461588   \n",
            "28          28  Mountain      Nevada       7058.0           486.0    3027341   \n",
            "44          44  Mountain        Utah       1904.0           972.0    3153550   \n",
            "\n",
            "    indiv_per_10k  \n",
            "2       10.141067  \n",
            "4       27.623825  \n",
            "28      23.314189  \n",
            "44       6.037640  \n"
          ]
        }
      ],
      "source": [
        "# The Mojave Desert states\n",
        "canu = [\"California\", \"Arizona\", \"Nevada\", \"Utah\"]\n",
        "\n",
        "# Filter for rows in the Mojave Desert states\n",
        "mojave_homelessness = homelessness[homelessness['state'].isin(canu)]\n",
        "\n",
        "# See the result\n",
        "print(mojave_homelessness)"
      ]
    },
    {
      "cell_type": "markdown",
      "metadata": {
        "id": "-HUNhiw2zzvO"
      },
      "source": [
        "1. Add a new column to homelessness, named total, containing the sum of the individuals and family_members columns.\n",
        "2. Add another column to homelessness, named p_individuals, containing the proportion of homeless people in each state who are individuals."
      ]
    },
    {
      "cell_type": "code",
      "execution_count": 43,
      "metadata": {
        "id": "Cc9kHD-Szw9S"
      },
      "outputs": [
        {
          "name": "stdout",
          "output_type": "stream",
          "text": [
            "    Unnamed: 0              region                 state  individuals  \\\n",
            "0            0  East South Central               Alabama       2570.0   \n",
            "1            1             Pacific                Alaska       1434.0   \n",
            "2            2            Mountain               Arizona       7259.0   \n",
            "3            3  West South Central              Arkansas       2280.0   \n",
            "4            4             Pacific            California     109008.0   \n",
            "5            5            Mountain              Colorado       7607.0   \n",
            "6            6         New England           Connecticut       2280.0   \n",
            "7            7      South Atlantic              Delaware        708.0   \n",
            "8            8      South Atlantic  District of Columbia       3770.0   \n",
            "9            9      South Atlantic               Florida      21443.0   \n",
            "10          10      South Atlantic               Georgia       6943.0   \n",
            "11          11             Pacific                Hawaii       4131.0   \n",
            "12          12            Mountain                 Idaho       1297.0   \n",
            "13          13  East North Central              Illinois       6752.0   \n",
            "14          14  East North Central               Indiana       3776.0   \n",
            "15          15  West North Central                  Iowa       1711.0   \n",
            "16          16  West North Central                Kansas       1443.0   \n",
            "17          17  East South Central              Kentucky       2735.0   \n",
            "18          18  West South Central             Louisiana       2540.0   \n",
            "19          19         New England                 Maine       1450.0   \n",
            "20          20      South Atlantic              Maryland       4914.0   \n",
            "21          21         New England         Massachusetts       6811.0   \n",
            "22          22  East North Central              Michigan       5209.0   \n",
            "23          23  West North Central             Minnesota       3993.0   \n",
            "24          24  East South Central           Mississippi       1024.0   \n",
            "25          25  West North Central              Missouri       3776.0   \n",
            "26          26            Mountain               Montana        983.0   \n",
            "27          27  West North Central              Nebraska       1745.0   \n",
            "28          28            Mountain                Nevada       7058.0   \n",
            "29          29         New England         New Hampshire        835.0   \n",
            "30          30        Mid-Atlantic            New Jersey       6048.0   \n",
            "31          31            Mountain            New Mexico       1949.0   \n",
            "32          32        Mid-Atlantic              New York      39827.0   \n",
            "33          33      South Atlantic        North Carolina       6451.0   \n",
            "34          34  West North Central          North Dakota        467.0   \n",
            "35          35  East North Central                  Ohio       6929.0   \n",
            "36          36  West South Central              Oklahoma       2823.0   \n",
            "37          37             Pacific                Oregon      11139.0   \n",
            "38          38        Mid-Atlantic          Pennsylvania       8163.0   \n",
            "39          39         New England          Rhode Island        747.0   \n",
            "40          40      South Atlantic        South Carolina       3082.0   \n",
            "41          41  West North Central          South Dakota        836.0   \n",
            "42          42  East South Central             Tennessee       6139.0   \n",
            "43          43  West South Central                 Texas      19199.0   \n",
            "44          44            Mountain                  Utah       1904.0   \n",
            "45          45         New England               Vermont        780.0   \n",
            "46          46      South Atlantic              Virginia       3928.0   \n",
            "47          47             Pacific            Washington      16424.0   \n",
            "48          48      South Atlantic         West Virginia       1021.0   \n",
            "49          49  East North Central             Wisconsin       2740.0   \n",
            "50          50            Mountain               Wyoming        434.0   \n",
            "\n",
            "    family_members  state_pop  indiv_per_10k     total  p_individuals  \n",
            "0            864.0    4887681       5.258117    3434.0       0.748398  \n",
            "1            582.0     735139      19.506515    2016.0       0.711310  \n",
            "2           2606.0    7158024      10.141067    9865.0       0.735834  \n",
            "3            432.0    3009733       7.575423    2712.0       0.840708  \n",
            "4          20964.0   39461588      27.623825  129972.0       0.838704  \n",
            "5           3250.0    5691287      13.366045   10857.0       0.700654  \n",
            "6           1696.0    3571520       6.383837    3976.0       0.573441  \n",
            "7            374.0     965479       7.333148    1082.0       0.654344  \n",
            "8           3134.0     701547      53.738381    6904.0       0.546060  \n",
            "9           9587.0   21244317      10.093523   31030.0       0.691041  \n",
            "10          2556.0   10511131       6.605379    9499.0       0.730919  \n",
            "11          2399.0    1420593      29.079406    6530.0       0.632619  \n",
            "12           715.0    1750536       7.409159    2012.0       0.644632  \n",
            "13          3891.0   12723071       5.306895   10643.0       0.634408  \n",
            "14          1482.0    6695497       5.639611    5258.0       0.718144  \n",
            "15          1038.0    3148618       5.434130    2749.0       0.622408  \n",
            "16           773.0    2911359       4.956448    2216.0       0.651173  \n",
            "17           953.0    4461153       6.130702    3688.0       0.741594  \n",
            "18           519.0    4659690       5.451006    3059.0       0.830337  \n",
            "19          1066.0    1339057      10.828516    2516.0       0.576312  \n",
            "20          2230.0    6035802       8.141420    7144.0       0.687850  \n",
            "21         13257.0    6882635       9.895919   20068.0       0.339396  \n",
            "22          3142.0    9984072       5.217310    8351.0       0.623758  \n",
            "23          3250.0    5606249       7.122409    7243.0       0.551291  \n",
            "24           328.0    2981020       3.435066    1352.0       0.757396  \n",
            "25          2107.0    6121623       6.168299    5883.0       0.641849  \n",
            "26           422.0    1060665       9.267771    1405.0       0.699644  \n",
            "27           676.0    1925614       9.062045    2421.0       0.720777  \n",
            "28           486.0    3027341      23.314189    7544.0       0.935578  \n",
            "29           615.0    1353465       6.169351    1450.0       0.575862  \n",
            "30          3350.0    8886025       6.806193    9398.0       0.643541  \n",
            "31           602.0    2092741       9.313145    2551.0       0.764014  \n",
            "32         52070.0   19530351      20.392363   91897.0       0.433387  \n",
            "33          2817.0   10381615       6.213869    9268.0       0.696051  \n",
            "34            75.0     758080       6.160300     542.0       0.861624  \n",
            "35          3320.0   11676341       5.934222   10249.0       0.676066  \n",
            "36          1048.0    3940235       7.164547    3871.0       0.729269  \n",
            "37          3337.0    4181886      26.636307   14476.0       0.769481  \n",
            "38          5349.0   12800922       6.376884   13512.0       0.604130  \n",
            "39           354.0    1058287       7.058577    1101.0       0.678474  \n",
            "40           851.0    5084156       6.061970    3933.0       0.783626  \n",
            "41           323.0     878698       9.514077    1159.0       0.721311  \n",
            "42          1744.0    6771631       9.065763    7883.0       0.778764  \n",
            "43          6111.0   28628666       6.706215   25310.0       0.758554  \n",
            "44           972.0    3153550       6.037640    2876.0       0.662031  \n",
            "45           511.0     624358      12.492833    1291.0       0.604183  \n",
            "46          2047.0    8501286       4.620477    5975.0       0.657406  \n",
            "47          5880.0    7523869      21.829195   22304.0       0.736370  \n",
            "48           222.0    1804291       5.658732    1243.0       0.821400  \n",
            "49          2167.0    5807406       4.718113    4907.0       0.558386  \n",
            "50           205.0     577601       7.513837     639.0       0.679186  \n"
          ]
        }
      ],
      "source": [
        "# Add total col as sum of individuals and family_members\n",
        "homelessness['total'] = homelessness['individuals'] + homelessness['family_members']\n",
        "\n",
        "# Add p_individuals col as proportion of individuals\n",
        "homelessness['p_individuals'] = homelessness['individuals'] / homelessness['total']\n",
        "# See the result\n",
        "print(homelessness)"
      ]
    },
    {
      "cell_type": "markdown",
      "metadata": {
        "id": "nU1T0AwEz5dR"
      },
      "source": [
        "1. Add a column to homelessness, indiv_per_10k, containing the number of homeless individuals per ten thousand people in each state.\n",
        "2. Subset rows where indiv_per_10k is higher than 20, assigning to high_homelessness.\n",
        "3. Sort high_homelessness by descending indiv_per_10k, assigning to high_homelessness_srt.\n",
        "4. Select only the state and indiv_per_10k columns of high_homelessness_srt and save as result. Look at the result."
      ]
    },
    {
      "cell_type": "code",
      "execution_count": 31,
      "metadata": {
        "id": "IybcAnQ2z5DU"
      },
      "outputs": [
        {
          "name": "stdout",
          "output_type": "stream",
          "text": [
            "                   state  indiv_per_10k\n",
            "8   District of Columbia      53.738381\n",
            "11                Hawaii      29.079406\n",
            "4             California      27.623825\n",
            "37                Oregon      26.636307\n",
            "28                Nevada      23.314189\n",
            "47            Washington      21.829195\n",
            "32              New York      20.392363\n"
          ]
        }
      ],
      "source": [
        "# Create indiv_per_10k col as homeless individuals per 10k state pop\n",
        "homelessness[\"indiv_per_10k\"] = 10000 * homelessness['individuals'] / homelessness['state_pop'] \n",
        "\n",
        "# Subset rows for indiv_per_10k greater than 20\n",
        "high_homelessness = homelessness[homelessness['indiv_per_10k'] > 20]\n",
        "\n",
        "# Sort high_homelessness by descending indiv_per_10k\n",
        "high_homelessness_srt = high_homelessness.sort_values(['indiv_per_10k'], ascending=False)\n",
        "\n",
        "# From high_homelessness_srt, select the state and indiv_per_10k cols\n",
        "result = high_homelessness_srt[['state', 'indiv_per_10k']]\n",
        "\n",
        "# See the result\n",
        "print(result)"
      ]
    },
    {
      "cell_type": "code",
      "execution_count": null,
      "metadata": {},
      "outputs": [],
      "source": []
    }
  ],
  "metadata": {
    "colab": {
      "name": "04. Transforming DataFrames Exercise.ipynb",
      "provenance": []
    },
    "kernelspec": {
      "display_name": "Python 3",
      "name": "python3"
    },
    "language_info": {
      "codemirror_mode": {
        "name": "ipython",
        "version": 3
      },
      "file_extension": ".py",
      "mimetype": "text/x-python",
      "name": "python",
      "nbconvert_exporter": "python",
      "pygments_lexer": "ipython3",
      "version": "3.11.4"
    }
  },
  "nbformat": 4,
  "nbformat_minor": 0
}
