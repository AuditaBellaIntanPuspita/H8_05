{
 "cells": [
  {
   "cell_type": "code",
   "execution_count": 1,
   "metadata": {},
   "outputs": [],
   "source": [
    "import numpy as np"
   ]
  },
  {
   "cell_type": "markdown",
   "metadata": {},
   "source": [
    "Nama : Audita Bella Intan Puspita"
   ]
  },
  {
   "cell_type": "markdown",
   "metadata": {},
   "source": [
    "### Nomer 1"
   ]
  },
  {
   "cell_type": "code",
   "execution_count": 16,
   "metadata": {},
   "outputs": [
    {
     "name": "stdout",
     "output_type": "stream",
     "text": [
      "Array hasil:\n",
      "[ 1  2  3  4  5  6  7  8  9 10 11 12 13 14 15 16 17 18 19 20 21 22 23 24\n",
      " 25 26 27 28]\n"
     ]
    },
    {
     "ename": "ValueError",
     "evalue": "cannot reshape array of size 28 into shape (3,9)",
     "output_type": "error",
     "traceback": [
      "\u001b[1;31m---------------------------------------------------------------------------\u001b[0m",
      "\u001b[1;31mValueError\u001b[0m                                Traceback (most recent call last)",
      "Cell \u001b[1;32mIn[16], line 12\u001b[0m\n\u001b[0;32m      8\u001b[0m \u001b[39mprint\u001b[39m(array)\n\u001b[0;32m     10\u001b[0m \u001b[39m# 2 dimensi\u001b[39;00m\n\u001b[1;32m---> 12\u001b[0m array_2d \u001b[39m=\u001b[39m array\u001b[39m.\u001b[39mreshape(\u001b[39m3\u001b[39m,\u001b[39m9\u001b[39m)\n\u001b[0;32m     13\u001b[0m \u001b[39mprint\u001b[39m(\u001b[39m\"\u001b[39m\u001b[39mArray versi 2D: \u001b[39m\u001b[39m\"\u001b[39m)\n\u001b[0;32m     14\u001b[0m \u001b[39mprint\u001b[39m(array_2d)\n",
      "\u001b[1;31mValueError\u001b[0m: cannot reshape array of size 28 into shape (3,9)"
     ]
    }
   ],
   "source": [
    "mulai = int(input(\"Masukkan nilai mulai: \"))\n",
    "selesai = int(input(\"Masukkan nilai selesai: \"))\n",
    "\n",
    "#1dimensi\n",
    "\n",
    "array = np.arange(mulai, selesai+1)\n",
    "print(\"Array hasil:\")\n",
    "print(array)\n",
    "\n",
    "# 2 dimensi\n",
    "\n",
    "array_2d = array.reshape(3,9)\n",
    "print(\"Array versi 2D: \")\n",
    "print(array_2d)\n",
    "\n",
    "# 3 dimensi\n",
    "array_3d = array.reshape(3, 3, 3)\n",
    "print(\"Array versi 3D: \")\n",
    "print(array_3d)\n",
    "\n"
   ]
  },
  {
   "cell_type": "markdown",
   "metadata": {},
   "source": [
    "### Nomer 2"
   ]
  },
  {
   "cell_type": "code",
   "execution_count": 15,
   "metadata": {},
   "outputs": [
    {
     "name": "stdout",
     "output_type": "stream",
     "text": [
      "Array 1 dimensi:\n",
      "[22 10 49 46 17 19 12 11 27  8  4 45 48  6 23 26]\n",
      "Dua Dimensi:\n",
      "[[22 10 49 46]\n",
      " [17 19 12 11]\n",
      " [27  8  4 45]\n",
      " [48  6 23 26]]\n",
      "Tukar posisi:\n",
      "[[46 49 10 22]\n",
      " [11 12 19 17]\n",
      " [45  4  8 27]\n",
      " [26 23  6 48]]\n"
     ]
    }
   ],
   "source": [
    "n = int(input(\"Masukkan Banyak data: \"))\n",
    "angka_mulai = int(input(\"Masukkan angka mulai: \"))\n",
    "angka_berakhir = int(input(\"Masukkan angka berakhir: \"))\n",
    "\n",
    "random_array = np.random.randint(angka_mulai, angka_berakhir + 1, n)\n",
    "print(\"Array 1 dimensi:\")\n",
    "print(random_array)\n",
    "\n",
    "dua_dimensi = random_array.reshape(4, 4)\n",
    "print(\"Dua Dimensi:\")\n",
    "print(dua_dimensi)\n",
    "\n",
    "matrix_flipped = dua_dimensi[:, ::-1]\n",
    "print(\"Tukar posisi:\")\n",
    "print(matrix_flipped)"
   ]
  },
  {
   "cell_type": "markdown",
   "metadata": {},
   "source": [
    "### Nomer 3"
   ]
  },
  {
   "cell_type": "code",
   "execution_count": 11,
   "metadata": {},
   "outputs": [
    {
     "name": "stdout",
     "output_type": "stream",
     "text": [
      "[[4 4 4 4 4 4 4 4 4 4]\n",
      " [4 0 0 0 0 0 0 0 0 4]\n",
      " [4 0 0 0 0 0 0 0 0 4]\n",
      " [4 0 0 0 0 0 0 0 0 4]\n",
      " [4 0 0 0 0 0 0 0 0 4]\n",
      " [4 0 0 0 0 0 0 0 0 4]\n",
      " [4 0 0 0 0 0 0 0 0 4]\n",
      " [4 0 0 0 0 0 0 0 0 4]\n",
      " [4 0 0 0 0 0 0 0 0 4]\n",
      " [4 4 4 4 4 4 4 4 4 4]]\n"
     ]
    }
   ],
   "source": [
    "array = np.full((10,10), 4)\n",
    "array[1:-1, 1:-1] = 0\n",
    "\n",
    "print(array)"
   ]
  },
  {
   "cell_type": "code",
   "execution_count": null,
   "metadata": {},
   "outputs": [],
   "source": []
  }
 ],
 "metadata": {
  "kernelspec": {
   "display_name": "base",
   "language": "python",
   "name": "python3"
  },
  "language_info": {
   "codemirror_mode": {
    "name": "ipython",
    "version": 3
   },
   "file_extension": ".py",
   "mimetype": "text/x-python",
   "name": "python",
   "nbconvert_exporter": "python",
   "pygments_lexer": "ipython3",
   "version": "3.11.4"
  },
  "orig_nbformat": 4
 },
 "nbformat": 4,
 "nbformat_minor": 2
}
