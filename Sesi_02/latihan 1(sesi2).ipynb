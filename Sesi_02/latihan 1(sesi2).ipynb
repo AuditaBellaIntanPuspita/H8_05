{
 "cells": [
  {
   "cell_type": "markdown",
   "metadata": {},
   "source": [
    "### Latihan\n",
    "Nama : Audita Bella Intan Puspita\n",
    "kode peserta : PYTN-KS18-05"
   ]
  },
  {
   "cell_type": "markdown",
   "metadata": {},
   "source": [
    "### 1"
   ]
  },
  {
   "cell_type": "code",
   "execution_count": 2,
   "metadata": {},
   "outputs": [
    {
     "name": "stdout",
     "output_type": "stream",
     "text": [
      "5 adalah bilangan ganjil.\n"
     ]
    }
   ],
   "source": [
    "angka = int(input(\"Masukkan sebuah bilangan bulat: \"))\n",
    "\n",
    "if angka == 0:\n",
    "    print(\"0 bukanlah bilangan ganjil atau genap.\")\n",
    "elif angka < 0:\n",
    "    print(\"Inputan adalah bilangan bulat positif.\")\n",
    "else:\n",
    "    if angka % 2 == 0:\n",
    "        print(angka, \"adalah bilangan genap.\")\n",
    "    else:\n",
    "        print(angka, \"adalah bilangan ganjil.\")"
   ]
  },
  {
   "cell_type": "markdown",
   "metadata": {},
   "source": [
    "### 2"
   ]
  },
  {
   "cell_type": "code",
   "execution_count": null,
   "metadata": {},
   "outputs": [],
   "source": [
    "x = int(input(\"Masukkan pilihan: \"))\n",
    "\n",
    "if x == 1:\n",
    "    a = int(input(\"alas:\"))\n",
    "    t = int(input(\"tinggi: \"))\n",
    "    luas = 1/2*a*t\n",
    "    print(luas)\n",
    "elif x == 2 :\n",
    "    s = int(input(\"sisi: \"))\n",
    "    luas = s*s\n",
    "    print(luas)\n",
    "else : \n",
    "    print(\"Masukkan inputan yang benar\")"
   ]
  },
  {
   "cell_type": "markdown",
   "metadata": {},
   "source": [
    "### 3"
   ]
  },
  {
   "cell_type": "code",
   "execution_count": 4,
   "metadata": {},
   "outputs": [
    {
     "name": "stdout",
     "output_type": "stream",
     "text": [
      "398 hari sama dengan 1 tahun, 1 bulan, 1 minggu, 1 hari\n"
     ]
    }
   ],
   "source": [
    "jml_hari = int(input(\"Masukkan Jumlah Hari: \"))\n",
    "\n",
    "thn = jml_hari // 360\n",
    "bln = (jml_hari % 360) // 30\n",
    "minggu = ((jml_hari % 360 )% 30) // 7\n",
    "hari = ((jml_hari % 360) % 30 ) % 7\n",
    "\n",
    "print ( f\"{jml_hari} hari sama dengan {thn} tahun, {bln} bulan, {minggu} minggu, {hari} hari\")"
   ]
  },
  {
   "cell_type": "markdown",
   "metadata": {},
   "source": [
    "### 4"
   ]
  },
  {
   "cell_type": "code",
   "execution_count": 3,
   "metadata": {},
   "outputs": [
    {
     "name": "stdout",
     "output_type": "stream",
     "text": [
      "kalimat kamu adalah: saya\n"
     ]
    }
   ],
   "source": [
    "kalimat = input(\"Masukkan sebuah kalimat: \")\n",
    "if len(kalimat) == 0:\n",
    "    print(\"Masukkan sebuah kalimat.\")\n",
    "elif len(kalimat) < 50:\n",
    "    print(\"kalimat kamu adalah:\", kalimat)\n",
    "else:\n",
    "    print(\"kalimat yang dimasukkan terlalu panjang.\")"
   ]
  }
 ],
 "metadata": {
  "kernelspec": {
   "display_name": "base",
   "language": "python",
   "name": "python3"
  },
  "language_info": {
   "codemirror_mode": {
    "name": "ipython",
    "version": 3
   },
   "file_extension": ".py",
   "mimetype": "text/x-python",
   "name": "python",
   "nbconvert_exporter": "python",
   "pygments_lexer": "ipython3",
   "version": "3.11.4"
  },
  "orig_nbformat": 4
 },
 "nbformat": 4,
 "nbformat_minor": 2
}
