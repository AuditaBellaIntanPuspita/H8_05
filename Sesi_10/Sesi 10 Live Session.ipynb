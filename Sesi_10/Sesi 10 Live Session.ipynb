{
 "cells": [
  {
   "cell_type": "markdown",
   "metadata": {},
   "source": [
    "### T-Test Single Population Mean"
   ]
  },
  {
   "cell_type": "code",
   "execution_count": 4,
   "metadata": {},
   "outputs": [
    {
     "ename": "NameError",
     "evalue": "name 'df' is not defined",
     "output_type": "error",
     "traceback": [
      "\u001b[1;31m---------------------------------------------------------------------------\u001b[0m",
      "\u001b[1;31mNameError\u001b[0m                                 Traceback (most recent call last)",
      "\u001b[1;32md:\\SEMESTER 4\\Github\\H8_05\\Sesi10\\Sesi 10 Live Session.ipynb Cell 2\u001b[0m line \u001b[0;36m3\n\u001b[0;32m      <a href='vscode-notebook-cell:/d%3A/SEMESTER%204/Github/H8_05/Sesi10/Sesi%2010%20Live%20Session.ipynb#X11sZmlsZQ%3D%3D?line=0'>1</a>\u001b[0m \u001b[39mfrom\u001b[39;00m \u001b[39mscipy\u001b[39;00m\u001b[39m.\u001b[39;00m\u001b[39mstats\u001b[39;00m \u001b[39mimport\u001b[39;00m ttest_1samp\n\u001b[1;32m----> <a href='vscode-notebook-cell:/d%3A/SEMESTER%204/Github/H8_05/Sesi10/Sesi%2010%20Live%20Session.ipynb#X11sZmlsZQ%3D%3D?line=2'>3</a>\u001b[0m tset, pval \u001b[39m=\u001b[39m ttest_1samp(df[\u001b[39m'\u001b[39m\u001b[39mPrice\u001b[39m\u001b[39m'\u001b[39m], \u001b[39m10\u001b[39m)\n\u001b[0;32m      <a href='vscode-notebook-cell:/d%3A/SEMESTER%204/Github/H8_05/Sesi10/Sesi%2010%20Live%20Session.ipynb#X11sZmlsZQ%3D%3D?line=3'>4</a>\u001b[0m \u001b[39mprint\u001b[39m(\u001b[39m'\u001b[39m\u001b[39mp-value:\u001b[39m\u001b[39m'\u001b[39m, pval\u001b[39m/\u001b[39m\u001b[39m2\u001b[39m)\n",
      "\u001b[1;31mNameError\u001b[0m: name 'df' is not defined"
     ]
    }
   ],
   "source": [
    "from scipy.stats import ttest_1samp\n",
    "\n",
    "tset, pval = ttest_1samp(df['Price'], 10)\n",
    "print('p-value:', pval/2)"
   ]
  },
  {
   "cell_type": "markdown",
   "metadata": {},
   "source": [
    "### T-Test Independence Double Population Mean"
   ]
  },
  {
   "cell_type": "code",
   "execution_count": 2,
   "metadata": {},
   "outputs": [],
   "source": [
    "from scipy.stats import ttest_ind"
   ]
  },
  {
   "cell_type": "code",
   "execution_count": 3,
   "metadata": {},
   "outputs": [
    {
     "ename": "NameError",
     "evalue": "name 'df' is not defined",
     "output_type": "error",
     "traceback": [
      "\u001b[1;31m---------------------------------------------------------------------------\u001b[0m",
      "\u001b[1;31mNameError\u001b[0m                                 Traceback (most recent call last)",
      "\u001b[1;32md:\\SEMESTER 4\\Github\\H8_05\\Sesi10\\Sesi 10 Live Session.ipynb Cell 3\u001b[0m line \u001b[0;36m2\n\u001b[0;32m      <a href='vscode-notebook-cell:/d%3A/SEMESTER%204/Github/H8_05/Sesi10/Sesi%2010%20Live%20Session.ipynb#W1sZmlsZQ%3D%3D?line=0'>1</a>\u001b[0m result \u001b[39m=\u001b[39m \u001b[39mlist\u001b[39m (ttest_ind(\n\u001b[1;32m----> <a href='vscode-notebook-cell:/d%3A/SEMESTER%204/Github/H8_05/Sesi10/Sesi%2010%20Live%20Session.ipynb#W1sZmlsZQ%3D%3D?line=1'>2</a>\u001b[0m     df[df[\u001b[39m'\u001b[39m\u001b[39mGenre\u001b[39m\u001b[39m'\u001b[39m]\u001b[39m==\u001b[39m\u001b[39m'\u001b[39m\u001b[39mNon Fiction\u001b[39m\u001b[39m'\u001b[39m][\u001b[39m'\u001b[39m\u001b[39mPrice\u001b[39m\u001b[39m'\u001b[39m],\n\u001b[0;32m      <a href='vscode-notebook-cell:/d%3A/SEMESTER%204/Github/H8_05/Sesi10/Sesi%2010%20Live%20Session.ipynb#W1sZmlsZQ%3D%3D?line=2'>3</a>\u001b[0m     df[df[\u001b[39m'\u001b[39m\u001b[39mGenre\u001b[39m\u001b[39m'\u001b[39m]\u001b[39m==\u001b[39m\u001b[39m'\u001b[39m\u001b[39mFiction\u001b[39m\u001b[39m'\u001b[39m][\u001b[39m'\u001b[39m\u001b[39mPrice\u001b[39m\u001b[39m'\u001b[39m],\n\u001b[0;32m      <a href='vscode-notebook-cell:/d%3A/SEMESTER%204/Github/H8_05/Sesi10/Sesi%2010%20Live%20Session.ipynb#W1sZmlsZQ%3D%3D?line=3'>4</a>\u001b[0m     equal_var \u001b[39m=\u001b[39m \u001b[39mFalse\u001b[39;00m\n\u001b[0;32m      <a href='vscode-notebook-cell:/d%3A/SEMESTER%204/Github/H8_05/Sesi10/Sesi%2010%20Live%20Session.ipynb#W1sZmlsZQ%3D%3D?line=4'>5</a>\u001b[0m ))\n\u001b[0;32m      <a href='vscode-notebook-cell:/d%3A/SEMESTER%204/Github/H8_05/Sesi10/Sesi%2010%20Live%20Session.ipynb#W1sZmlsZQ%3D%3D?line=6'>7</a>\u001b[0m \u001b[39mprint\u001b[39m(\u001b[39m'\u001b[39m\u001b[39mT-Statistic: \u001b[39m\u001b[39m'\u001b[39m, result[\u001b[39m0\u001b[39m])\n\u001b[0;32m      <a href='vscode-notebook-cell:/d%3A/SEMESTER%204/Github/H8_05/Sesi10/Sesi%2010%20Live%20Session.ipynb#W1sZmlsZQ%3D%3D?line=7'>8</a>\u001b[0m \u001b[39mprint\u001b[39m(\u001b[39m'\u001b[39m\u001b[39mP-Value: \u001b[39m\u001b[39m'\u001b[39m, result[\u001b[39m1\u001b[39m]\u001b[39m/\u001b[39m\u001b[39m2\u001b[39m)\n",
      "\u001b[1;31mNameError\u001b[0m: name 'df' is not defined"
     ]
    }
   ],
   "source": [
    "result = list (ttest_ind(\n",
    "    df[df['Genre']=='Non Fiction']['Price'],\n",
    "    df[df['Genre']=='Fiction']['Price'],\n",
    "    equal_var = False\n",
    "))\n",
    "\n",
    "print('T-Statistic: ', result[0])\n",
    "print('P-Value: ', result[1]/2)"
   ]
  },
  {
   "cell_type": "markdown",
   "metadata": {},
   "source": [
    "### T-Test Independence Double Population Mean Equal Variance"
   ]
  },
  {
   "cell_type": "code",
   "execution_count": 5,
   "metadata": {},
   "outputs": [
    {
     "ename": "NameError",
     "evalue": "name 'df' is not defined",
     "output_type": "error",
     "traceback": [
      "\u001b[1;31m---------------------------------------------------------------------------\u001b[0m",
      "\u001b[1;31mNameError\u001b[0m                                 Traceback (most recent call last)",
      "\u001b[1;32md:\\SEMESTER 4\\Github\\H8_05\\Sesi10\\Sesi 10 Live Session.ipynb Cell 7\u001b[0m line \u001b[0;36m3\n\u001b[0;32m      <a href='vscode-notebook-cell:/d%3A/SEMESTER%204/Github/H8_05/Sesi10/Sesi%2010%20Live%20Session.ipynb#X13sZmlsZQ%3D%3D?line=0'>1</a>\u001b[0m \u001b[39mfrom\u001b[39;00m \u001b[39mscipy\u001b[39;00m\u001b[39m.\u001b[39;00m\u001b[39mstats\u001b[39;00m \u001b[39mimport\u001b[39;00m ttest_ind\n\u001b[0;32m      <a href='vscode-notebook-cell:/d%3A/SEMESTER%204/Github/H8_05/Sesi10/Sesi%2010%20Live%20Session.ipynb#X13sZmlsZQ%3D%3D?line=1'>2</a>\u001b[0m result \u001b[39m=\u001b[39m \u001b[39mlist\u001b[39m (ttest_ind(\n\u001b[1;32m----> <a href='vscode-notebook-cell:/d%3A/SEMESTER%204/Github/H8_05/Sesi10/Sesi%2010%20Live%20Session.ipynb#X13sZmlsZQ%3D%3D?line=2'>3</a>\u001b[0m     df[df[\u001b[39m'\u001b[39m\u001b[39mGenre\u001b[39m\u001b[39m'\u001b[39m]\u001b[39m==\u001b[39m\u001b[39m'\u001b[39m\u001b[39mNon Fiction\u001b[39m\u001b[39m'\u001b[39m][\u001b[39m'\u001b[39m\u001b[39mPrice\u001b[39m\u001b[39m'\u001b[39m],\n\u001b[0;32m      <a href='vscode-notebook-cell:/d%3A/SEMESTER%204/Github/H8_05/Sesi10/Sesi%2010%20Live%20Session.ipynb#X13sZmlsZQ%3D%3D?line=3'>4</a>\u001b[0m     df[df[\u001b[39m'\u001b[39m\u001b[39mGenre\u001b[39m\u001b[39m'\u001b[39m]\u001b[39m==\u001b[39m\u001b[39m'\u001b[39m\u001b[39mFiction\u001b[39m\u001b[39m'\u001b[39m][\u001b[39m'\u001b[39m\u001b[39mPrice\u001b[39m\u001b[39m'\u001b[39m],\n\u001b[0;32m      <a href='vscode-notebook-cell:/d%3A/SEMESTER%204/Github/H8_05/Sesi10/Sesi%2010%20Live%20Session.ipynb#X13sZmlsZQ%3D%3D?line=4'>5</a>\u001b[0m     equal_var \u001b[39m=\u001b[39m \u001b[39mFalse\u001b[39;00m\n\u001b[0;32m      <a href='vscode-notebook-cell:/d%3A/SEMESTER%204/Github/H8_05/Sesi10/Sesi%2010%20Live%20Session.ipynb#X13sZmlsZQ%3D%3D?line=5'>6</a>\u001b[0m ))\n\u001b[0;32m      <a href='vscode-notebook-cell:/d%3A/SEMESTER%204/Github/H8_05/Sesi10/Sesi%2010%20Live%20Session.ipynb#X13sZmlsZQ%3D%3D?line=7'>8</a>\u001b[0m \u001b[39mprint\u001b[39m(\u001b[39m'\u001b[39m\u001b[39mT-Statistic: \u001b[39m\u001b[39m'\u001b[39m, result[\u001b[39m0\u001b[39m])\n\u001b[0;32m      <a href='vscode-notebook-cell:/d%3A/SEMESTER%204/Github/H8_05/Sesi10/Sesi%2010%20Live%20Session.ipynb#X13sZmlsZQ%3D%3D?line=8'>9</a>\u001b[0m \u001b[39mprint\u001b[39m(\u001b[39m'\u001b[39m\u001b[39mP-Value: \u001b[39m\u001b[39m'\u001b[39m, result[\u001b[39m1\u001b[39m]\u001b[39m/\u001b[39m\u001b[39m2\u001b[39m)\n",
      "\u001b[1;31mNameError\u001b[0m: name 'df' is not defined"
     ]
    }
   ],
   "source": [
    "from scipy.stats import ttest_ind\n",
    "result = list (ttest_ind(\n",
    "    df[df['Genre']=='Non Fiction']['Price'],\n",
    "    df[df['Genre']=='Fiction']['Price'],\n",
    "    equal_var = False\n",
    "))\n",
    "\n",
    "print('T-Statistic: ', result[0])\n",
    "print('P-Value: ', result[1]/2)"
   ]
  },
  {
   "cell_type": "markdown",
   "metadata": {},
   "source": [
    "### T-Test Paired"
   ]
  },
  {
   "cell_type": "code",
   "execution_count": 6,
   "metadata": {},
   "outputs": [
    {
     "ename": "NameError",
     "evalue": "name 'df_paired' is not defined",
     "output_type": "error",
     "traceback": [
      "\u001b[1;31m---------------------------------------------------------------------------\u001b[0m",
      "\u001b[1;31mNameError\u001b[0m                                 Traceback (most recent call last)",
      "\u001b[1;32md:\\SEMESTER 4\\Github\\H8_05\\Sesi10\\Sesi 10 Live Session.ipynb Cell 9\u001b[0m line \u001b[0;36m1\n\u001b[1;32m----> <a href='vscode-notebook-cell:/d%3A/SEMESTER%204/Github/H8_05/Sesi10/Sesi%2010%20Live%20Session.ipynb#X14sZmlsZQ%3D%3D?line=0'>1</a>\u001b[0m tset, pval \u001b[39m=\u001b[39m ttest_1samp(df_paired[\u001b[39m'\u001b[39m\u001b[39mdiff\u001b[39m\u001b[39m'\u001b[39m],\u001b[39m0\u001b[39m)\n\u001b[0;32m      <a href='vscode-notebook-cell:/d%3A/SEMESTER%204/Github/H8_05/Sesi10/Sesi%2010%20Live%20Session.ipynb#X14sZmlsZQ%3D%3D?line=1'>2</a>\u001b[0m \u001b[39mprint\u001b[39m (pval\u001b[39m/\u001b[39m\u001b[39m2\u001b[39m)\n\u001b[0;32m      <a href='vscode-notebook-cell:/d%3A/SEMESTER%204/Github/H8_05/Sesi10/Sesi%2010%20Live%20Session.ipynb#X14sZmlsZQ%3D%3D?line=2'>3</a>\u001b[0m \u001b[39mprint\u001b[39m(tset)\n",
      "\u001b[1;31mNameError\u001b[0m: name 'df_paired' is not defined"
     ]
    }
   ],
   "source": [
    "tset, pval = ttest_1samp(df_paired['diff'],0)\n",
    "print (pval/2)\n",
    "print(tset)"
   ]
  },
  {
   "cell_type": "markdown",
   "metadata": {},
   "source": [
    "### Anova F-Test for More Than Two Population Mean"
   ]
  },
  {
   "cell_type": "code",
   "execution_count": 7,
   "metadata": {},
   "outputs": [
    {
     "ename": "NameError",
     "evalue": "name 'transportdf' is not defined",
     "output_type": "error",
     "traceback": [
      "\u001b[1;31m---------------------------------------------------------------------------\u001b[0m",
      "\u001b[1;31mNameError\u001b[0m                                 Traceback (most recent call last)",
      "\u001b[1;32md:\\SEMESTER 4\\Github\\H8_05\\Sesi10\\Sesi 10 Live Session.ipynb Cell 11\u001b[0m line \u001b[0;36m2\n\u001b[0;32m      <a href='vscode-notebook-cell:/d%3A/SEMESTER%204/Github/H8_05/Sesi10/Sesi%2010%20Live%20Session.ipynb#X15sZmlsZQ%3D%3D?line=0'>1</a>\u001b[0m \u001b[39mfrom\u001b[39;00m \u001b[39mscipy\u001b[39;00m\u001b[39m.\u001b[39;00m\u001b[39mstats\u001b[39;00m \u001b[39mimport\u001b[39;00m f_oneway\n\u001b[1;32m----> <a href='vscode-notebook-cell:/d%3A/SEMESTER%204/Github/H8_05/Sesi10/Sesi%2010%20Live%20Session.ipynb#X15sZmlsZQ%3D%3D?line=1'>2</a>\u001b[0m f_oneway (transportdf[transportdf[\u001b[39m'\u001b[39m\u001b[39mTrabsportation\u001b[39m\u001b[39m'\u001b[39m]\u001b[39m==\u001b[39m\u001b[39m'\u001b[39m\u001b[39mWalking\u001b[39m\u001b[39m'\u001b[39m][\u001b[39m'\u001b[39m\u001b[39mStudy Hour\u001b[39m\u001b[39m'\u001b[39m],\n\u001b[0;32m      <a href='vscode-notebook-cell:/d%3A/SEMESTER%204/Github/H8_05/Sesi10/Sesi%2010%20Live%20Session.ipynb#X15sZmlsZQ%3D%3D?line=2'>3</a>\u001b[0m           transportdf[transportdf[\u001b[39m'\u001b[39m\u001b[39mTrabsportation\u001b[39m\u001b[39m'\u001b[39m]\u001b[39m==\u001b[39m\u001b[39m'\u001b[39m\u001b[39mPublic\u001b[39m\u001b[39m'\u001b[39m][\u001b[39m'\u001b[39m\u001b[39mStudy Hour\u001b[39m\u001b[39m'\u001b[39m],\n\u001b[0;32m      <a href='vscode-notebook-cell:/d%3A/SEMESTER%204/Github/H8_05/Sesi10/Sesi%2010%20Live%20Session.ipynb#X15sZmlsZQ%3D%3D?line=3'>4</a>\u001b[0m           transportdf[transportdf[\u001b[39m'\u001b[39m\u001b[39mTrabsportation\u001b[39m\u001b[39m'\u001b[39m]\u001b[39m==\u001b[39m\u001b[39m'\u001b[39m\u001b[39mPrivate\u001b[39m\u001b[39m'\u001b[39m][\u001b[39m'\u001b[39m\u001b[39mStudy Hour\u001b[39m\u001b[39m'\u001b[39m],)\n",
      "\u001b[1;31mNameError\u001b[0m: name 'transportdf' is not defined"
     ]
    }
   ],
   "source": [
    "from scipy.stats import f_oneway\n",
    "f_oneway (transportdf[transportdf['Trabsportation']=='Walking']['Study Hour'],\n",
    "          transportdf[transportdf['Trabsportation']=='Public']['Study Hour'],\n",
    "          transportdf[transportdf['Trabsportation']=='Private']['Study Hour'],)"
   ]
  },
  {
   "cell_type": "code",
   "execution_count": null,
   "metadata": {},
   "outputs": [],
   "source": []
  }
 ],
 "metadata": {
  "kernelspec": {
   "display_name": "base",
   "language": "python",
   "name": "python3"
  },
  "language_info": {
   "codemirror_mode": {
    "name": "ipython",
    "version": 3
   },
   "file_extension": ".py",
   "mimetype": "text/x-python",
   "name": "python",
   "nbconvert_exporter": "python",
   "pygments_lexer": "ipython3",
   "version": "3.11.4"
  },
  "orig_nbformat": 4
 },
 "nbformat": 4,
 "nbformat_minor": 2
}
