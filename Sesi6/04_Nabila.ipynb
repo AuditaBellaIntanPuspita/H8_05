{
  "cells": [
    {
      "cell_type": "code",
      "execution_count": 11,
      "metadata": {
        "id": "aFeAVj_hwI28"
      },
      "outputs": [
        {
          "name": "stdout",
          "output_type": "stream",
          "text": [
            "<class 'pandas.core.frame.DataFrame'>\n",
            "RangeIndex: 51 entries, 0 to 50\n",
            "Data columns (total 6 columns):\n",
            " #   Column          Non-Null Count  Dtype  \n",
            "---  ------          --------------  -----  \n",
            " 0   Unnamed: 0      51 non-null     int64  \n",
            " 1   region          51 non-null     object \n",
            " 2   state           51 non-null     object \n",
            " 3   individuals     51 non-null     float64\n",
            " 4   family_members  51 non-null     float64\n",
            " 5   state_pop       51 non-null     int64  \n",
            "dtypes: float64(2), int64(2), object(2)\n",
            "memory usage: 2.5+ KB\n"
          ]
        }
      ],
      "source": [
        "# Import pandas using the alias pd\n",
        "import pandas as pd\n",
        "\n",
        "\n",
        "\n",
        "\n",
        "# Print the head of the homelessness data\n",
        "data = pd.read_csv('homelessness.csv')\n",
        "data.head()\n",
        "# Print information about homelessness\n",
        "data.info()\n",
        "# Print the shape of homelessness\n",
        "data.shape\n",
        "# Print a description of homelessness\n",
        "data.describe\n"
      ]
    },
    {
      "cell_type": "code",
      "execution_count": 16,
      "metadata": {
        "id": "fm5saUItwcFd"
      },
      "outputs": [
        {
          "data": {
            "text/plain": [
              "Index(['Unnamed: 0', 'region', 'state', 'individuals', 'family_members',\n",
              "       'state_pop'],\n",
              "      dtype='object')"
            ]
          },
          "execution_count": 16,
          "metadata": {},
          "output_type": "execute_result"
        }
      ],
      "source": [
        "# Print the values of homelessness\n",
        "# data.values\n",
        "\n",
        "# Print the column index of homelessness\n",
        "data.columns\n",
        "# Print the row index of homelessness\n"
      ]
    },
    {
      "cell_type": "markdown",
      "metadata": {
        "id": "C2RxFTVbwurT"
      },
      "source": [
        "1. Sort homelessness by the number of homeless individuals, from smallest to largest, and save this as homelessness_ind.\n",
        "2. Print the head of the sorted DataFrame."
      ]
    },
    {
      "cell_type": "code",
      "execution_count": 18,
      "metadata": {
        "id": "a3ykbCdgwzQV"
      },
      "outputs": [
        {
          "name": "stdout",
          "output_type": "stream",
          "text": [
            "    Unnamed: 0              region         state  individuals  family_members  \\\n",
            "50          50            Mountain       Wyoming        434.0           205.0   \n",
            "34          34  West North Central  North Dakota        467.0            75.0   \n",
            "7            7      South Atlantic      Delaware        708.0           374.0   \n",
            "39          39         New England  Rhode Island        747.0           354.0   \n",
            "45          45         New England       Vermont        780.0           511.0   \n",
            "\n",
            "    state_pop  \n",
            "50     577601  \n",
            "34     758080  \n",
            "7      965479  \n",
            "39    1058287  \n",
            "45     624358  \n"
          ]
        }
      ],
      "source": [
        "# Sort homelessness by individual\n",
        "homelessness_ind = data.sort_values('individuals')\n",
        "\n",
        "# Print the top few rows\n",
        "print(homelessness_ind.head())"
      ]
    },
    {
      "cell_type": "markdown",
      "metadata": {
        "id": "DzVp9qvLwyQA"
      },
      "source": [
        "1. Sort homelessness by the number of homeless family_members in descending order, and save this as homelessness_fam.\n",
        "2. Print the head of the sorted DataFrame."
      ]
    },
    {
      "cell_type": "code",
      "execution_count": 19,
      "metadata": {
        "id": "b6XF3IT0w7us"
      },
      "outputs": [
        {
          "name": "stdout",
          "output_type": "stream",
          "text": [
            "    Unnamed: 0              region          state  individuals  \\\n",
            "34          34  West North Central   North Dakota        467.0   \n",
            "50          50            Mountain        Wyoming        434.0   \n",
            "48          48      South Atlantic  West Virginia       1021.0   \n",
            "41          41  West North Central   South Dakota        836.0   \n",
            "24          24  East South Central    Mississippi       1024.0   \n",
            "\n",
            "    family_members  state_pop  \n",
            "34            75.0     758080  \n",
            "50           205.0     577601  \n",
            "48           222.0    1804291  \n",
            "41           323.0     878698  \n",
            "24           328.0    2981020  \n"
          ]
        }
      ],
      "source": [
        "# Sort homelessness by descending family members\n",
        "homelessness_fam = data.sort_values('family_members')\n",
        "\n",
        "\n",
        "# Print the top few rows\n",
        "print(homelessness_fam.head())"
      ]
    },
    {
      "cell_type": "markdown",
      "metadata": {
        "id": "VrycbWLXxju4"
      },
      "source": [
        "1. Sort homelessness first by region (ascending), and then by number of family members (descending). Save this as homelessness_reg_fam.\n",
        "2. Print the head of the sorted DataFrame."
      ]
    },
    {
      "cell_type": "code",
      "execution_count": 20,
      "metadata": {
        "id": "8GxinflQxmL6"
      },
      "outputs": [
        {
          "name": "stdout",
          "output_type": "stream",
          "text": [
            "    Unnamed: 0              region      state  individuals  family_members  \\\n",
            "13          13  East North Central   Illinois       6752.0          3891.0   \n",
            "35          35  East North Central       Ohio       6929.0          3320.0   \n",
            "22          22  East North Central   Michigan       5209.0          3142.0   \n",
            "49          49  East North Central  Wisconsin       2740.0          2167.0   \n",
            "14          14  East North Central    Indiana       3776.0          1482.0   \n",
            "\n",
            "    state_pop  \n",
            "13   12723071  \n",
            "35   11676341  \n",
            "22    9984072  \n",
            "49    5807406  \n",
            "14    6695497  \n"
          ]
        }
      ],
      "source": [
        "# Sort homelessness by region, then descending family members\n",
        "homelessness_reg_fam = data.sort_values(by=['region', 'family_members'], ascending=[True, False])\n",
        "\n",
        "# Print the top few rows\n",
        "print(homelessness_reg_fam.head())"
      ]
    },
    {
      "cell_type": "markdown",
      "metadata": {
        "id": "ysh02Y60xs7n"
      },
      "source": [
        "1. Create a DataFrame called individuals that contains only the individuals column of homelessness.\n",
        "2. Print the head of the result."
      ]
    },
    {
      "cell_type": "code",
      "execution_count": 21,
      "metadata": {
        "id": "N9kvbr1fxwQV"
      },
      "outputs": [
        {
          "name": "stdout",
          "output_type": "stream",
          "text": [
            "0      2570.0\n",
            "1      1434.0\n",
            "2      7259.0\n",
            "3      2280.0\n",
            "4    109008.0\n",
            "Name: individuals, dtype: float64\n"
          ]
        }
      ],
      "source": [
        "# Select the individuals column\n",
        "individuals = data['individuals']\n",
        "\n",
        "# Print the head of the result\n",
        "print(individuals.head())"
      ]
    },
    {
      "cell_type": "markdown",
      "metadata": {
        "id": "kjcynwqKyprN"
      },
      "source": [
        "1. Create a DataFrame called state_fam that contains only the state and family_members columns of homelessness, in that order.\n",
        "2. Print the head of the result."
      ]
    },
    {
      "cell_type": "code",
      "execution_count": 23,
      "metadata": {
        "id": "cmOO0FXNyuLY"
      },
      "outputs": [
        {
          "name": "stdout",
          "output_type": "stream",
          "text": [
            "        state  family_members\n",
            "0     Alabama           864.0\n",
            "1      Alaska           582.0\n",
            "2     Arizona          2606.0\n",
            "3    Arkansas           432.0\n",
            "4  California         20964.0\n"
          ]
        }
      ],
      "source": [
        "# Select the state and family_members columns\n",
        "state_fam = data[['state' , 'family_members']]\n",
        "\n",
        "# Print the head of the result\n",
        "print(state_fam.head())"
      ]
    },
    {
      "cell_type": "markdown",
      "metadata": {
        "id": "HDL0tEKpywNU"
      },
      "source": [
        "1. Create a DataFrame called ind_state that contains the individuals and state columns of homelessness, in that order.\n",
        "2. Print the head of the result."
      ]
    },
    {
      "cell_type": "code",
      "execution_count": 24,
      "metadata": {
        "id": "9CGyZMlPy17L"
      },
      "outputs": [
        {
          "name": "stdout",
          "output_type": "stream",
          "text": [
            "   individuals       state\n",
            "0       2570.0     Alabama\n",
            "1       1434.0      Alaska\n",
            "2       7259.0     Arizona\n",
            "3       2280.0    Arkansas\n",
            "4     109008.0  California\n"
          ]
        }
      ],
      "source": [
        "# Select only the individuals and state columns, in that order\n",
        "ind_state = data[['individuals', 'state']]\n",
        "\n",
        "# Print the head of the result\n",
        "print(ind_state.head())"
      ]
    },
    {
      "cell_type": "markdown",
      "metadata": {
        "id": "jRHrSM92zYH5"
      },
      "source": [
        "Filter homelessness for cases where the number of individuals is greater than ten thousand, assigning to ind_gt_10k. View the printed result."
      ]
    },
    {
      "cell_type": "code",
      "execution_count": 25,
      "metadata": {
        "id": "Gb2mfRaYzbvk"
      },
      "outputs": [
        {
          "name": "stdout",
          "output_type": "stream",
          "text": [
            "0      True\n",
            "1      True\n",
            "2      True\n",
            "3      True\n",
            "4      True\n",
            "5      True\n",
            "6      True\n",
            "7     False\n",
            "8      True\n",
            "9      True\n",
            "10     True\n",
            "11     True\n",
            "12     True\n",
            "13     True\n",
            "14     True\n",
            "15     True\n",
            "16     True\n",
            "17     True\n",
            "18     True\n",
            "19     True\n",
            "20     True\n",
            "21     True\n",
            "22     True\n",
            "23     True\n",
            "24     True\n",
            "25     True\n",
            "26    False\n",
            "27     True\n",
            "28     True\n",
            "29    False\n",
            "30     True\n",
            "31     True\n",
            "32     True\n",
            "33     True\n",
            "34    False\n",
            "35     True\n",
            "36     True\n",
            "37     True\n",
            "38     True\n",
            "39    False\n",
            "40     True\n",
            "41    False\n",
            "42     True\n",
            "43     True\n",
            "44     True\n",
            "45    False\n",
            "46     True\n",
            "47     True\n",
            "48     True\n",
            "49     True\n",
            "50    False\n",
            "Name: individuals, dtype: bool\n"
          ]
        }
      ],
      "source": [
        "# Filter for rows where individuals is greater than 10000\n",
        "ind_gt_10k = data['individuals'] > 1000\n",
        "\n",
        "# See the result\n",
        "print(ind_gt_10k)"
      ]
    },
    {
      "cell_type": "markdown",
      "metadata": {
        "id": "ON9JYsLnzcPF"
      },
      "source": [
        "Filter homelessness for cases where the USA Census region is \"Mountain\", assigning to mountain_reg. View the printed result."
      ]
    },
    {
      "cell_type": "code",
      "execution_count": 26,
      "metadata": {
        "id": "MrVVVJwMzhaI"
      },
      "outputs": [
        {
          "name": "stdout",
          "output_type": "stream",
          "text": [
            "0     False\n",
            "1     False\n",
            "2      True\n",
            "3     False\n",
            "4     False\n",
            "5      True\n",
            "6     False\n",
            "7     False\n",
            "8     False\n",
            "9     False\n",
            "10    False\n",
            "11    False\n",
            "12     True\n",
            "13    False\n",
            "14    False\n",
            "15    False\n",
            "16    False\n",
            "17    False\n",
            "18    False\n",
            "19    False\n",
            "20    False\n",
            "21    False\n",
            "22    False\n",
            "23    False\n",
            "24    False\n",
            "25    False\n",
            "26     True\n",
            "27    False\n",
            "28     True\n",
            "29    False\n",
            "30    False\n",
            "31     True\n",
            "32    False\n",
            "33    False\n",
            "34    False\n",
            "35    False\n",
            "36    False\n",
            "37    False\n",
            "38    False\n",
            "39    False\n",
            "40    False\n",
            "41    False\n",
            "42    False\n",
            "43    False\n",
            "44     True\n",
            "45    False\n",
            "46    False\n",
            "47    False\n",
            "48    False\n",
            "49    False\n",
            "50     True\n",
            "Name: region, dtype: bool\n"
          ]
        }
      ],
      "source": [
        "# Filter for rows where region is Mountain\n",
        "mountain_reg = data['region'] == 'Mountain'\n",
        "\n",
        "# See the result\n",
        "print(mountain_reg)"
      ]
    },
    {
      "cell_type": "markdown",
      "metadata": {
        "id": "DDQQp1oWziHx"
      },
      "source": [
        "Filter homelessness for cases where the number of family_members is less than one thousand and the region is \"Pacific\", assigning to fam_lt_1k_pac. View the printed result."
      ]
    },
    {
      "cell_type": "code",
      "execution_count": null,
      "metadata": {
        "id": "8YRcU-HszlCU"
      },
      "outputs": [],
      "source": [
        "# Filter for rows where family_members is less than 1000 \n",
        "# and region is Pacific\n",
        "fam_lt_1k_pac = ____\n",
        "\n",
        "# See the result\n",
        "print(fam_lt_1k_pac)"
      ]
    },
    {
      "cell_type": "markdown",
      "metadata": {
        "id": "yGDc3wEIzpE8"
      },
      "source": [
        "Filter homelessness for cases where the USA census region is \"South Atlantic\" or it is \"Mid-Atlantic\", assigning to south_mid_atlantic. View the printed result"
      ]
    },
    {
      "cell_type": "code",
      "execution_count": null,
      "metadata": {
        "id": "nk8O0I2PzrLV"
      },
      "outputs": [],
      "source": [
        "# Subset for rows in South Atlantic or Mid-Atlantic regions\n",
        "south_mid_atlantic = ____\n",
        "\n",
        "# See the result\n",
        "print(south_mid_atlantic)"
      ]
    },
    {
      "cell_type": "markdown",
      "metadata": {
        "id": "jjBCm7kAzs5u"
      },
      "source": [
        "Filter homelessness for cases where the USA census state is in the list of Mojave states, canu, assigning to mojave_homelessness. View the printed result."
      ]
    },
    {
      "cell_type": "code",
      "execution_count": 29,
      "metadata": {
        "id": "F45HAHppzvKf"
      },
      "outputs": [
        {
          "ename": "SyntaxError",
          "evalue": "invalid syntax (<ipython-input-29-68fa0a3c03e9>, line 5)",
          "output_type": "error",
          "traceback": [
            "\u001b[1;36m  File \u001b[1;32m\"<ipython-input-29-68fa0a3c03e9>\"\u001b[1;36m, line \u001b[1;32m5\u001b[0m\n\u001b[1;33m    mojave_homelessness =\u001b[0m\n\u001b[1;37m                          ^\u001b[0m\n\u001b[1;31mSyntaxError\u001b[0m\u001b[1;31m:\u001b[0m invalid syntax\n"
          ]
        }
      ],
      "source": [
        "# The Mojave Desert states\n",
        "canu = [\"California\", \"Arizona\", \"Nevada\", \"Utah\"]\n",
        "\n",
        "# Filter for rows in the Mojave Desert states\n",
        "mojave_homelessness = \n",
        "\n",
        "# See the result\n",
        "print(mojave_homelessness)"
      ]
    },
    {
      "cell_type": "markdown",
      "metadata": {
        "id": "-HUNhiw2zzvO"
      },
      "source": [
        "1. Add a new column to homelessness, named total, containing the sum of the individuals and family_members columns.\n",
        "2. Add another column to homelessness, named p_individuals, containing the proportion of homeless people in each state who are individuals."
      ]
    },
    {
      "cell_type": "code",
      "execution_count": 28,
      "metadata": {
        "id": "Cc9kHD-Szw9S"
      },
      "outputs": [
        {
          "ename": "NameError",
          "evalue": "name 'homelessness' is not defined",
          "output_type": "error",
          "traceback": [
            "\u001b[1;31m---------------------------------------------------------------------------\u001b[0m",
            "\u001b[1;31mNameError\u001b[0m                                 Traceback (most recent call last)",
            "\u001b[1;32m<ipython-input-28-ad17c27cbb84>\u001b[0m in \u001b[0;36m<module>\u001b[1;34m\u001b[0m\n\u001b[0;32m      1\u001b[0m \u001b[1;31m# Add total col as sum of individuals and family_members\u001b[0m\u001b[1;33m\u001b[0m\u001b[1;33m\u001b[0m\u001b[1;33m\u001b[0m\u001b[0m\n\u001b[1;32m----> 2\u001b[1;33m \u001b[0mhomelessness\u001b[0m\u001b[1;33m[\u001b[0m\u001b[1;34m'total'\u001b[0m\u001b[1;33m]\u001b[0m \u001b[1;33m=\u001b[0m \u001b[0mhomelessness\u001b[0m\u001b[1;33m[\u001b[0m\u001b[1;34m'individuals'\u001b[0m\u001b[1;33m]\u001b[0m \u001b[1;33m+\u001b[0m \u001b[0mhomelessness\u001b[0m\u001b[1;33m[\u001b[0m\u001b[1;34m'family_members'\u001b[0m\u001b[1;33m]\u001b[0m\u001b[1;33m\u001b[0m\u001b[1;33m\u001b[0m\u001b[0m\n\u001b[0m\u001b[0;32m      3\u001b[0m \u001b[1;33m\u001b[0m\u001b[0m\n\u001b[0;32m      4\u001b[0m \u001b[1;31m# Add p_individuals col as proportion of individuals\u001b[0m\u001b[1;33m\u001b[0m\u001b[1;33m\u001b[0m\u001b[1;33m\u001b[0m\u001b[0m\n\u001b[0;32m      5\u001b[0m \u001b[0mhomelessness\u001b[0m\u001b[1;33m[\u001b[0m\u001b[1;34m'p_individuals'\u001b[0m\u001b[1;33m]\u001b[0m \u001b[1;33m=\u001b[0m \u001b[0mhomelessness\u001b[0m\u001b[1;33m[\u001b[0m\u001b[1;34m'individuals'\u001b[0m\u001b[1;33m]\u001b[0m \u001b[1;33m/\u001b[0m \u001b[0mhomelessness\u001b[0m\u001b[1;33m[\u001b[0m\u001b[1;34m'total'\u001b[0m\u001b[1;33m]\u001b[0m\u001b[1;33m\u001b[0m\u001b[1;33m\u001b[0m\u001b[0m\n",
            "\u001b[1;31mNameError\u001b[0m: name 'homelessness' is not defined"
          ]
        }
      ],
      "source": [
        "# Add total col as sum of individuals and family_members\n",
        "homelessness['total'] = homelessness['individuals'] + homelessness['family_members']\n",
        "\n",
        "# Add p_individuals col as proportion of individuals\n",
        "homelessness['p_individuals'] = homelessness['individuals'] / homelessness['total']\n",
        "\n",
        "# See the result\n",
        "print(homelessness)"
      ]
    },
    {
      "cell_type": "markdown",
      "metadata": {
        "id": "nU1T0AwEz5dR"
      },
      "source": [
        "1. Add a column to homelessness, indiv_per_10k, containing the number of homeless individuals per ten thousand people in each state.\n",
        "2. Subset rows where indiv_per_10k is higher than 20, assigning to high_homelessness.\n",
        "3. Sort high_homelessness by descending indiv_per_10k, assigning to high_homelessness_srt.\n",
        "4. Select only the state and indiv_per_10k columns of high_homelessness_srt and save as result. Look at the result."
      ]
    },
    {
      "cell_type": "code",
      "execution_count": 27,
      "metadata": {
        "id": "IybcAnQ2z5DU"
      },
      "outputs": [
        {
          "ename": "NameError",
          "evalue": "name 'homelessness' is not defined",
          "output_type": "error",
          "traceback": [
            "\u001b[1;31m---------------------------------------------------------------------------\u001b[0m",
            "\u001b[1;31mNameError\u001b[0m                                 Traceback (most recent call last)",
            "\u001b[1;32m<ipython-input-27-75f81459952e>\u001b[0m in \u001b[0;36m<module>\u001b[1;34m\u001b[0m\n\u001b[0;32m      1\u001b[0m \u001b[1;31m# Create indiv_per_10k col as homeless individuals per 10k state pop\u001b[0m\u001b[1;33m\u001b[0m\u001b[1;33m\u001b[0m\u001b[1;33m\u001b[0m\u001b[0m\n\u001b[1;32m----> 2\u001b[1;33m \u001b[0mhomelessness\u001b[0m\u001b[1;33m[\u001b[0m\u001b[1;34m\"indiv_per_10k\"\u001b[0m\u001b[1;33m]\u001b[0m \u001b[1;33m=\u001b[0m \u001b[1;36m10000\u001b[0m \u001b[1;33m*\u001b[0m \u001b[0mhomelessness\u001b[0m\u001b[1;33m[\u001b[0m\u001b[1;34m\"individuals\"\u001b[0m\u001b[1;33m]\u001b[0m \u001b[1;33m/\u001b[0m \u001b[0mhomelessness\u001b[0m\u001b[1;33m[\u001b[0m\u001b[1;34m\"state_pop\"\u001b[0m\u001b[1;33m]\u001b[0m\u001b[1;33m\u001b[0m\u001b[1;33m\u001b[0m\u001b[0m\n\u001b[0m\u001b[0;32m      3\u001b[0m \u001b[1;33m\u001b[0m\u001b[0m\n\u001b[0;32m      4\u001b[0m \u001b[1;33m\u001b[0m\u001b[0m\n\u001b[0;32m      5\u001b[0m \u001b[1;31m# Subset rows for indiv_per_10k greater than 20\u001b[0m\u001b[1;33m\u001b[0m\u001b[1;33m\u001b[0m\u001b[1;33m\u001b[0m\u001b[0m\n",
            "\u001b[1;31mNameError\u001b[0m: name 'homelessness' is not defined"
          ]
        }
      ],
      "source": [
        "# Create indiv_per_10k col as homeless individuals per 10k state pop\n",
        "homelessness[\"indiv_per_10k\"] = 10000 * homelessness[\"individuals\"] / homelessness[\"state_pop\"]\n",
        "\n",
        "\n",
        "# Subset rows for indiv_per_10k greater than 20\n",
        "high_homelessness = homelessness[homelessness[\"indiv_per_10k\"] > 20]\n",
        "\n",
        "# Sort high_homelessness by descending indiv_per_10k\n",
        "high_homelessness_srt = high_homelessness.sort_values(\"indiv_per_10k\", ascending=False)\n",
        "\n",
        "# From high_homelessness_srt, select the state and indiv_per_10k cols\n",
        "result = high_homelessness_srt[[\"state\", \"indiv_per_10k\"]]\n",
        "\n",
        "# See the result\n",
        "print(result)"
      ]
    }
  ],
  "metadata": {
    "colab": {
      "name": "04. Transforming DataFrames Exercise.ipynb",
      "provenance": []
    },
    "kernelspec": {
      "display_name": "Python 3",
      "name": "python3"
    },
    "language_info": {
      "codemirror_mode": {
        "name": "ipython",
        "version": 3
      },
      "file_extension": ".py",
      "mimetype": "text/x-python",
      "name": "python",
      "nbconvert_exporter": "python",
      "pygments_lexer": "ipython3",
      "version": "3.8.8"
    }
  },
  "nbformat": 4,
  "nbformat_minor": 0
}
